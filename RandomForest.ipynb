{
  "cells": [
    {
      "cell_type": "markdown",
      "metadata": {
        "id": "4NXtf-qpw59o"
      },
      "source": [
        "# Интеллектуальный анализ данных – весна 2024\n",
        "\n",
        "# Домашнее задание 7: Деревья. Случайный лес\n",
        "\n",
        "Правила:\n",
        "\n",
        "- Домашнее задание оценивается в 10 баллов (+1 бонусный балл).\n",
        "\n",
        "\n",
        "- Можно использовать без доказательства любые результаты, встречавшиеся на лекциях или семинарах по курсу, если получение этих результатов не является вопросом задания.\n",
        "\n",
        "\n",
        "- Можно использовать любые свободные источники с обязательным указанием ссылки на них.\n",
        "\n",
        "\n",
        "- Плагиат не допускается. При обнаружении случаев списывания, 0 за работу выставляется всем участникам нарушения, даже если можно установить, кто у кого списал.\n",
        "\n",
        "<!-- ![](meme.jpg) -->\n",
        "<img src=\"meme.jpg\" alt=\"Drawing\" style=\"width: 700px;\"/>"
      ]
    },
    {
      "cell_type": "markdown",
      "metadata": {
        "id": "ljM0HXuQw59o"
      },
      "source": [
        "## Часть 1: Основы построения решающие дерева (1.5 балла)\n",
        "\n",
        "В этой части все расчёты необходимо реализовывать в виде запрограммированных формул, например, на `numpy`. **Нельзя использовать готовые реализации**. Например, если в задании требуется рассчитать энтропию, то требуется в каком-то виде релизовать расчёт по формуле, но нельзя использовать готовую реализацию `some_module.entropy()`."
      ]
    },
    {
      "cell_type": "code",
      "execution_count": null,
      "metadata": {
        "id": "KJxO3Wt2w59o"
      },
      "outputs": [],
      "source": [
        "import numpy as np\n",
        "import pandas as pd\n",
        "import matplotlib.pyplot as plt"
      ]
    },
    {
      "cell_type": "markdown",
      "metadata": {
        "id": "vZgiaBD7w59p"
      },
      "source": [
        "**Задание 1.1 (0.5 балла)** Пусть известно, что в вершину решающего дерева попали 10 объектов, 8 из которых имеют метку класса $k_1$, а 2 имеют метку класса $k_2$. Рассчитайте энтропию такого распределения классов (с натуральным логарифмом). Ответ округлите до двух знаков после запятой."
      ]
    },
    {
      "cell_type": "code",
      "execution_count": null,
      "metadata": {
        "id": "fYecypW2w59p",
        "colab": {
          "base_uri": "https://localhost:8080/"
        },
        "outputId": "849c0ea1-56bb-4164-f4ca-fbb02db981b6"
      },
      "outputs": [
        {
          "output_type": "execute_result",
          "data": {
            "text/plain": [
              "0.5"
            ]
          },
          "metadata": {},
          "execution_count": 2
        }
      ],
      "source": [
        "round(-0.8*np.log(0.8) - 0.2*np.log(0.2), 2)"
      ]
    },
    {
      "cell_type": "markdown",
      "metadata": {
        "id": "DGwWjuZcw59p"
      },
      "source": [
        "**Задание 1.2 (0.5 балла)** Пусть дополнительно известно, что вершина из предыдущего задания не является листовой и возможно такое разбиение, что в левое поддерево попадут все объекты класса $k_1$, а в правое - класса $k_2$. Посчитайте критерий информативности:\n",
        "\n",
        "$$\n",
        "Q(R_m, j, t) = H(R_m) - \\frac{|R_\\ell|}{|R_m|}H(R_\\ell) - \\frac{|R_r|}{|R_m|}H(R_r),\n",
        "$$\n",
        "\n",
        "где $R_m$ - множество объектов в разбиваемой вершине, $j$ - номер признака, по которому происходит разбиение, $t$ - порог разбиения, $R_\\ell$ - множество объектов в левом поддереве, $R_r$ - множество объектов в правом поддереве.\n",
        "\n",
        "Теперь в качестве $H(R)$ будем использовать индекс Джини:\n",
        "\n",
        "$$\n",
        "H(R) = \\sum_{k=1}^J p_k(1-p_k),\n",
        "$$\n",
        "где $J$ – общее количество классов (в нашем случае, $J = 2$).\n",
        "\n",
        "Ответ округлите до двух знаков после запятой."
      ]
    },
    {
      "cell_type": "code",
      "execution_count": null,
      "metadata": {
        "id": "wTsoyQPEw59p",
        "colab": {
          "base_uri": "https://localhost:8080/"
        },
        "outputId": "1be5da3e-29b0-4c20-c750-05c167a44610"
      },
      "outputs": [
        {
          "output_type": "execute_result",
          "data": {
            "text/plain": [
              "0.32"
            ]
          },
          "metadata": {},
          "execution_count": 3
        }
      ],
      "source": [
        "round(0.8*(1-0.8)+0.2*(1-0.2) - 8/10*(1*(1-1)+0*(1-0)) - 2/10*(1*(1-1)+0*(1-0)), 2)"
      ]
    },
    {
      "cell_type": "markdown",
      "metadata": {
        "id": "wHoM4kw2w59p"
      },
      "source": [
        "**Задание 1.3 (0.5 балла)** Пусть при построении дерева образовалась листовая вершина с 10 объектами, значения целевой переменной для которых следующие: [1, 10, 5, 18, 100, 30, 50, 61, 84, 47] (решается задача регрессии). Чему будут равны предсказания модели для этих объектов?"
      ]
    },
    {
      "cell_type": "code",
      "execution_count": null,
      "metadata": {
        "id": "EOnJw3EMw59p",
        "colab": {
          "base_uri": "https://localhost:8080/"
        },
        "outputId": "d09326a8-4684-47a5-890a-528fa76ca9d0"
      },
      "outputs": [
        {
          "output_type": "execute_result",
          "data": {
            "text/plain": [
              "40.6"
            ]
          },
          "metadata": {},
          "execution_count": 4
        }
      ],
      "source": [
        "y = [1, 10, 5, 18, 100, 30, 50, 61, 84, 47]\n",
        "result = sum(y)/len(y)\n",
        "result"
      ]
    },
    {
      "cell_type": "markdown",
      "metadata": {
        "id": "jrRvST2Uw59p"
      },
      "source": [
        "## Часть 2: Решающие деревья (4.5 балла)\n",
        "\n",
        "В этой части мы напишем и протестируем собственную реализацию решающего дерева."
      ]
    },
    {
      "cell_type": "code",
      "execution_count": null,
      "metadata": {
        "id": "H7RRIytQw59p"
      },
      "outputs": [],
      "source": [
        "from collections import Counter\n",
        "from typing import Dict, List, Tuple, Union"
      ]
    },
    {
      "cell_type": "markdown",
      "metadata": {
        "id": "6-AjUuUyw59p"
      },
      "source": [
        "**Задание 2.1 (1.5 балла)** Реализуйте функцию `find_best_split()`, которая должна находить оптимальное разбиение подмножества обучающей выборки в соответствии с информационным критерием из **Задания 1.2**. В качестве меры хаотичности $H(R)$ для задачи регрессии испольуйте дисперсию подвыборки, а для задачи классификации – критерий Джини (определён в том же задании).\n",
        "\n",
        "Для категориальных признаков применяется наивный алгоритм разбиения: мы пытаемся найти одно значение, разбиение по которому сильнее всего увеличит критерий информативности. Иными словами, объекты с конкретным значением признака отправляем в левое поддерево, остальные - в правое. Обратите внимание, что это далеко не оптимальные способ учёта категориальных признаков. Например, можно было бы на каждое значение категориального признака создавать отдельное поддерево или использовать более сложные подходы. Подробнее об этом можно прочитать в конспектах [лекций](https://github.com/esokolov/ml-course-hse/blob/master/2019-fall/lecture-notes/lecture07-trees.pdf) по машинному обучению на ПМИ (раздел «Учёт категориальных признаков»).\n",
        "\n",
        "В качестве подсказок реализации можете пользоваться кодом из бонусной части семинара по решающим деревьям.\n",
        "\n",
        "**Бонус:** Разрешается делать цикл для перебора порогов, но возможна имплементация без него. За имплементацию без цикла – **бонус 1 балл**."
      ]
    },
    {
      "cell_type": "code",
      "execution_count": null,
      "metadata": {
        "id": "jYORZYeiw59p"
      },
      "outputs": [],
      "source": [
        "def find_best_split(\n",
        "    feature_vector: Union[np.ndarray, pd.DataFrame],\n",
        "    target_vector: Union[np.ndarray, pd.Series],\n",
        "    task: str = \"classification\",\n",
        "    feature_type: str = \"real\"\n",
        ") -> Tuple[np.ndarray, np.ndarray, float, float]:\n",
        "    \"\"\"\n",
        "    Указания:\n",
        "    * Пороги, приводящие к попаданию в одно из поддеревьев пустого множества объектов, не рассматриваются.\n",
        "    * В качестве порогов, нужно брать среднее двух сосдених (при сортировке) значений признака\n",
        "    * Поведение функции в случае константного признака может быть любым.\n",
        "    * При одинаковых приростах Джини или дисперсии нужно выбирать минимальный сплит.\n",
        "    * За наличие в функции циклов балл будет снижен. Векторизуйте! :)\n",
        "\n",
        "    :param feature_vector: вещественнозначный вектор значений признака\n",
        "    :param target_vector: вектор классов объектов,  len(feature_vector) == len(target_vector)\n",
        "    :param task: либо `classification`, либо `regression`\n",
        "    :param feature_type: либо `real`, либо `categorical`\n",
        "\n",
        "    :return thresholds: отсортированный по возрастанию вектор со всеми возможными порогами, по которым объекты можно\n",
        "     разделить на две различные подвыборки, или поддерева\n",
        "    :return ginis: вектор со значениями критерия Джини для каждого из порогов в thresholds len(ginis) == len(thresholds)\n",
        "    :return threshold_best: оптимальный порог (число)\n",
        "    :return gini_best: оптимальное значение критерия Джини (число)\n",
        "    \"\"\"\n",
        "    if task == 'regression':\n",
        "      indexes = feature_vector.argsort()\n",
        "      feature_vector_sorted = feature_vector[indexes]\n",
        "      target_vector_sorted = target_vector[indexes]\n",
        "      m = []\n",
        "\n",
        "      if feature_type == 'real':\n",
        "        thresholds = (feature_vector_sorted[1:] + feature_vector_sorted[:-1])/2\n",
        "        thresholds_for_split = thresholds.tolist()\n",
        "\n",
        "        for threshold in thresholds:\n",
        "          left = feature_vector_sorted < threshold\n",
        "          right = feature_vector_sorted >= threshold\n",
        "\n",
        "          if len(target_vector_sorted[left]) == 0 or len(target_vector_sorted[right]) == 0:\n",
        "            thresholds_for_split.remove(threshold)\n",
        "            continue\n",
        "\n",
        "          variation =  np.var(target_vector_sorted)\n",
        "          variation_left = np.var(target_vector_sorted[left])\n",
        "          variation_right = np.var(target_vector_sorted[right])\n",
        "          c = variation - len(target_vector_sorted[left])/len(target_vector_sorted) * variation_left - len(target_vector_sorted[right])/len(target_vector_sorted) * variation_right\n",
        "          m.append(c)\n",
        "\n",
        "      else:\n",
        "        thresholds = feature_vector_sorted\n",
        "        thresholds_for_split = thresholds.tolist()\n",
        "\n",
        "        for threshold in thresholds:\n",
        "          left = feature_vector_sorted == threshold\n",
        "          right = feature_vector_sorted != threshold\n",
        "\n",
        "          if len(target_vector_sorted[left]) == 0 or len(target_vector_sorted[right]) == 0:\n",
        "            thresholds_for_split.remove(threshold)\n",
        "            continue\n",
        "\n",
        "          variation =  np.var(target_vector_sorted)\n",
        "          variation_left = np.var(target_vector_sorted[left])\n",
        "          variation_right = np.var(target_vector_sorted[right])\n",
        "\n",
        "          c = variation - len(target_vector_sorted[left])/len(target_vector_sorted) * variation_left - len(target_vector_sorted[right])/len(target_vector_sorted) * variation_right\n",
        "          m.append(c)\n",
        "\n",
        "    else:\n",
        "\n",
        "      indexes = feature_vector.argsort()\n",
        "      feature_vector_sorted = feature_vector[indexes]\n",
        "      target_vector_sorted = target_vector[indexes]\n",
        "      m = []\n",
        "\n",
        "      if feature_type == 'real':\n",
        "        thresholds = (feature_vector_sorted[1:] + feature_vector_sorted[:-1])/2\n",
        "        thresholds_for_split = thresholds.tolist()\n",
        "\n",
        "        for threshold in thresholds:\n",
        "          left = feature_vector_sorted < threshold\n",
        "          right = feature_vector_sorted >= threshold\n",
        "\n",
        "          if len(target_vector_sorted[left]) == 0 or len(target_vector_sorted[right]) == 0:\n",
        "            thresholds_for_split.remove(threshold)\n",
        "            continue\n",
        "\n",
        "          p_0 = np.count_nonzero(target_vector_sorted == 0)/len(target_vector_sorted)\n",
        "          p_1 = np.count_nonzero(target_vector_sorted == 1)/len(target_vector_sorted)\n",
        "          gini = p_0*(1-p_0) + p_1*(1-p_1)\n",
        "\n",
        "          p_0_left = np.count_nonzero(target_vector_sorted[left] == 0)/len(target_vector_sorted[left])\n",
        "          p_1_left = np.count_nonzero(target_vector_sorted[left] == 1)/len(target_vector_sorted[left])\n",
        "          gini_left = p_0_left*(1-p_0_left) + p_1_left*(1-p_1_left)\n",
        "\n",
        "          p_0_right = np.count_nonzero(target_vector_sorted[right] == 0)/len(target_vector_sorted[right])\n",
        "          p_1_right = np.count_nonzero(target_vector_sorted[right] == 1)/len(target_vector_sorted[right])\n",
        "          gini_right = p_0_right*(1-p_0_right) + p_1_right*(1-p_1_right)\n",
        "\n",
        "          c = gini - len(target_vector_sorted[left])/len(target_vector_sorted)*gini_left - len(target_vector_sorted[right])/len(target_vector_sorted) * gini_right\n",
        "          m.append(c)\n",
        "\n",
        "      else:\n",
        "        thresholds = feature_vector_sorted\n",
        "        thresholds_for_split = thresholds.tolist()\n",
        "\n",
        "        for threshold in thresholds:\n",
        "\n",
        "          left = feature_vector_sorted == threshold\n",
        "          right = feature_vector_sorted != threshold\n",
        "\n",
        "          if len(target_vector_sorted[left]) == 0 or len(target_vector_sorted[right]) == 0:\n",
        "            thresholds_for_split.remove(threshold)\n",
        "            continue\n",
        "\n",
        "          p_0 = np.count_nonzero(target_vector_sorted == 0)/len(target_vector_sorted)\n",
        "          p_1 = np.count_nonzero(target_vector_sorted == 1)/len(target_vector_sorted)\n",
        "          gini = p_0*(1-p_0) + p_1*(1-p_1)\n",
        "\n",
        "          p_0_left = np.count_nonzero(target_vector_sorted[left] == 0)/len(target_vector_sorted[left])\n",
        "          p_1_left = np.count_nonzero(target_vector_sorted[left] == 1)/len(target_vector_sorted[left])\n",
        "          gini_left = p_0_left*(1-p_0_left) + p_1_left*(1-p_1_left)\n",
        "\n",
        "          p_0_right = np.count_nonzero(target_vector_sorted[right] == 0)/len(target_vector_sorted[right])\n",
        "          p_1_right = np.count_nonzero(target_vector_sorted[right] == 1)/len(target_vector_sorted[right])\n",
        "          gini_right = p_0_right*(1-p_0_right) + p_1_right*(1-p_1_right)\n",
        "\n",
        "          c = gini - len(target_vector_sorted[left])/len(target_vector_sorted)*gini_left - len(target_vector_sorted[right])/len(target_vector_sorted) * gini_right\n",
        "          m.append(c)\n",
        "\n",
        "        if len(m) == 0:\n",
        "          return thresholds_for_split, m, thresholds[0], 0\n",
        "\n",
        "    max_split = np.argmax(m)\n",
        "    return thresholds_for_split, m, thresholds_for_split[max_split], m[max_split]\n",
        "\n",
        "    pass"
      ]
    },
    {
      "cell_type": "markdown",
      "metadata": {
        "id": "2ChKodthw59q"
      },
      "source": [
        "Эту функцию можно протестировать на датасете `California`."
      ]
    },
    {
      "cell_type": "code",
      "execution_count": null,
      "metadata": {
        "id": "H3LSDSyUw59q"
      },
      "outputs": [],
      "source": [
        "from sklearn.datasets import fetch_california_housing"
      ]
    },
    {
      "cell_type": "code",
      "execution_count": null,
      "metadata": {
        "id": "TG1AymM8w59q",
        "colab": {
          "base_uri": "https://localhost:8080/",
          "height": 206
        },
        "outputId": "d84bf4cd-fb19-456f-9bb8-00d240605670"
      },
      "outputs": [
        {
          "output_type": "execute_result",
          "data": {
            "text/plain": [
              "   MedInc  HouseAge  AveRooms  AveBedrms  Population  AveOccup  Latitude  \\\n",
              "0  8.3252      41.0  6.984127   1.023810       322.0  2.555556     37.88   \n",
              "1  8.3014      21.0  6.238137   0.971880      2401.0  2.109842     37.86   \n",
              "2  7.2574      52.0  8.288136   1.073446       496.0  2.802260     37.85   \n",
              "3  5.6431      52.0  5.817352   1.073059       558.0  2.547945     37.85   \n",
              "4  3.8462      52.0  6.281853   1.081081       565.0  2.181467     37.85   \n",
              "\n",
              "   Longitude  \n",
              "0    -122.23  \n",
              "1    -122.22  \n",
              "2    -122.24  \n",
              "3    -122.25  \n",
              "4    -122.25  "
            ],
            "text/html": [
              "\n",
              "  <div id=\"df-944edb7c-5801-4ced-8eec-673081236171\" class=\"colab-df-container\">\n",
              "    <div>\n",
              "<style scoped>\n",
              "    .dataframe tbody tr th:only-of-type {\n",
              "        vertical-align: middle;\n",
              "    }\n",
              "\n",
              "    .dataframe tbody tr th {\n",
              "        vertical-align: top;\n",
              "    }\n",
              "\n",
              "    .dataframe thead th {\n",
              "        text-align: right;\n",
              "    }\n",
              "</style>\n",
              "<table border=\"1\" class=\"dataframe\">\n",
              "  <thead>\n",
              "    <tr style=\"text-align: right;\">\n",
              "      <th></th>\n",
              "      <th>MedInc</th>\n",
              "      <th>HouseAge</th>\n",
              "      <th>AveRooms</th>\n",
              "      <th>AveBedrms</th>\n",
              "      <th>Population</th>\n",
              "      <th>AveOccup</th>\n",
              "      <th>Latitude</th>\n",
              "      <th>Longitude</th>\n",
              "    </tr>\n",
              "  </thead>\n",
              "  <tbody>\n",
              "    <tr>\n",
              "      <th>0</th>\n",
              "      <td>8.3252</td>\n",
              "      <td>41.0</td>\n",
              "      <td>6.984127</td>\n",
              "      <td>1.023810</td>\n",
              "      <td>322.0</td>\n",
              "      <td>2.555556</td>\n",
              "      <td>37.88</td>\n",
              "      <td>-122.23</td>\n",
              "    </tr>\n",
              "    <tr>\n",
              "      <th>1</th>\n",
              "      <td>8.3014</td>\n",
              "      <td>21.0</td>\n",
              "      <td>6.238137</td>\n",
              "      <td>0.971880</td>\n",
              "      <td>2401.0</td>\n",
              "      <td>2.109842</td>\n",
              "      <td>37.86</td>\n",
              "      <td>-122.22</td>\n",
              "    </tr>\n",
              "    <tr>\n",
              "      <th>2</th>\n",
              "      <td>7.2574</td>\n",
              "      <td>52.0</td>\n",
              "      <td>8.288136</td>\n",
              "      <td>1.073446</td>\n",
              "      <td>496.0</td>\n",
              "      <td>2.802260</td>\n",
              "      <td>37.85</td>\n",
              "      <td>-122.24</td>\n",
              "    </tr>\n",
              "    <tr>\n",
              "      <th>3</th>\n",
              "      <td>5.6431</td>\n",
              "      <td>52.0</td>\n",
              "      <td>5.817352</td>\n",
              "      <td>1.073059</td>\n",
              "      <td>558.0</td>\n",
              "      <td>2.547945</td>\n",
              "      <td>37.85</td>\n",
              "      <td>-122.25</td>\n",
              "    </tr>\n",
              "    <tr>\n",
              "      <th>4</th>\n",
              "      <td>3.8462</td>\n",
              "      <td>52.0</td>\n",
              "      <td>6.281853</td>\n",
              "      <td>1.081081</td>\n",
              "      <td>565.0</td>\n",
              "      <td>2.181467</td>\n",
              "      <td>37.85</td>\n",
              "      <td>-122.25</td>\n",
              "    </tr>\n",
              "  </tbody>\n",
              "</table>\n",
              "</div>\n",
              "    <div class=\"colab-df-buttons\">\n",
              "\n",
              "  <div class=\"colab-df-container\">\n",
              "    <button class=\"colab-df-convert\" onclick=\"convertToInteractive('df-944edb7c-5801-4ced-8eec-673081236171')\"\n",
              "            title=\"Convert this dataframe to an interactive table.\"\n",
              "            style=\"display:none;\">\n",
              "\n",
              "  <svg xmlns=\"http://www.w3.org/2000/svg\" height=\"24px\" viewBox=\"0 -960 960 960\">\n",
              "    <path d=\"M120-120v-720h720v720H120Zm60-500h600v-160H180v160Zm220 220h160v-160H400v160Zm0 220h160v-160H400v160ZM180-400h160v-160H180v160Zm440 0h160v-160H620v160ZM180-180h160v-160H180v160Zm440 0h160v-160H620v160Z\"/>\n",
              "  </svg>\n",
              "    </button>\n",
              "\n",
              "  <style>\n",
              "    .colab-df-container {\n",
              "      display:flex;\n",
              "      gap: 12px;\n",
              "    }\n",
              "\n",
              "    .colab-df-convert {\n",
              "      background-color: #E8F0FE;\n",
              "      border: none;\n",
              "      border-radius: 50%;\n",
              "      cursor: pointer;\n",
              "      display: none;\n",
              "      fill: #1967D2;\n",
              "      height: 32px;\n",
              "      padding: 0 0 0 0;\n",
              "      width: 32px;\n",
              "    }\n",
              "\n",
              "    .colab-df-convert:hover {\n",
              "      background-color: #E2EBFA;\n",
              "      box-shadow: 0px 1px 2px rgba(60, 64, 67, 0.3), 0px 1px 3px 1px rgba(60, 64, 67, 0.15);\n",
              "      fill: #174EA6;\n",
              "    }\n",
              "\n",
              "    .colab-df-buttons div {\n",
              "      margin-bottom: 4px;\n",
              "    }\n",
              "\n",
              "    [theme=dark] .colab-df-convert {\n",
              "      background-color: #3B4455;\n",
              "      fill: #D2E3FC;\n",
              "    }\n",
              "\n",
              "    [theme=dark] .colab-df-convert:hover {\n",
              "      background-color: #434B5C;\n",
              "      box-shadow: 0px 1px 3px 1px rgba(0, 0, 0, 0.15);\n",
              "      filter: drop-shadow(0px 1px 2px rgba(0, 0, 0, 0.3));\n",
              "      fill: #FFFFFF;\n",
              "    }\n",
              "  </style>\n",
              "\n",
              "    <script>\n",
              "      const buttonEl =\n",
              "        document.querySelector('#df-944edb7c-5801-4ced-8eec-673081236171 button.colab-df-convert');\n",
              "      buttonEl.style.display =\n",
              "        google.colab.kernel.accessAllowed ? 'block' : 'none';\n",
              "\n",
              "      async function convertToInteractive(key) {\n",
              "        const element = document.querySelector('#df-944edb7c-5801-4ced-8eec-673081236171');\n",
              "        const dataTable =\n",
              "          await google.colab.kernel.invokeFunction('convertToInteractive',\n",
              "                                                    [key], {});\n",
              "        if (!dataTable) return;\n",
              "\n",
              "        const docLinkHtml = 'Like what you see? Visit the ' +\n",
              "          '<a target=\"_blank\" href=https://colab.research.google.com/notebooks/data_table.ipynb>data table notebook</a>'\n",
              "          + ' to learn more about interactive tables.';\n",
              "        element.innerHTML = '';\n",
              "        dataTable['output_type'] = 'display_data';\n",
              "        await google.colab.output.renderOutput(dataTable, element);\n",
              "        const docLink = document.createElement('div');\n",
              "        docLink.innerHTML = docLinkHtml;\n",
              "        element.appendChild(docLink);\n",
              "      }\n",
              "    </script>\n",
              "  </div>\n",
              "\n",
              "\n",
              "<div id=\"df-67024f14-d5f0-4e65-a002-e3e49669b633\">\n",
              "  <button class=\"colab-df-quickchart\" onclick=\"quickchart('df-67024f14-d5f0-4e65-a002-e3e49669b633')\"\n",
              "            title=\"Suggest charts\"\n",
              "            style=\"display:none;\">\n",
              "\n",
              "<svg xmlns=\"http://www.w3.org/2000/svg\" height=\"24px\"viewBox=\"0 0 24 24\"\n",
              "     width=\"24px\">\n",
              "    <g>\n",
              "        <path d=\"M19 3H5c-1.1 0-2 .9-2 2v14c0 1.1.9 2 2 2h14c1.1 0 2-.9 2-2V5c0-1.1-.9-2-2-2zM9 17H7v-7h2v7zm4 0h-2V7h2v10zm4 0h-2v-4h2v4z\"/>\n",
              "    </g>\n",
              "</svg>\n",
              "  </button>\n",
              "\n",
              "<style>\n",
              "  .colab-df-quickchart {\n",
              "      --bg-color: #E8F0FE;\n",
              "      --fill-color: #1967D2;\n",
              "      --hover-bg-color: #E2EBFA;\n",
              "      --hover-fill-color: #174EA6;\n",
              "      --disabled-fill-color: #AAA;\n",
              "      --disabled-bg-color: #DDD;\n",
              "  }\n",
              "\n",
              "  [theme=dark] .colab-df-quickchart {\n",
              "      --bg-color: #3B4455;\n",
              "      --fill-color: #D2E3FC;\n",
              "      --hover-bg-color: #434B5C;\n",
              "      --hover-fill-color: #FFFFFF;\n",
              "      --disabled-bg-color: #3B4455;\n",
              "      --disabled-fill-color: #666;\n",
              "  }\n",
              "\n",
              "  .colab-df-quickchart {\n",
              "    background-color: var(--bg-color);\n",
              "    border: none;\n",
              "    border-radius: 50%;\n",
              "    cursor: pointer;\n",
              "    display: none;\n",
              "    fill: var(--fill-color);\n",
              "    height: 32px;\n",
              "    padding: 0;\n",
              "    width: 32px;\n",
              "  }\n",
              "\n",
              "  .colab-df-quickchart:hover {\n",
              "    background-color: var(--hover-bg-color);\n",
              "    box-shadow: 0 1px 2px rgba(60, 64, 67, 0.3), 0 1px 3px 1px rgba(60, 64, 67, 0.15);\n",
              "    fill: var(--button-hover-fill-color);\n",
              "  }\n",
              "\n",
              "  .colab-df-quickchart-complete:disabled,\n",
              "  .colab-df-quickchart-complete:disabled:hover {\n",
              "    background-color: var(--disabled-bg-color);\n",
              "    fill: var(--disabled-fill-color);\n",
              "    box-shadow: none;\n",
              "  }\n",
              "\n",
              "  .colab-df-spinner {\n",
              "    border: 2px solid var(--fill-color);\n",
              "    border-color: transparent;\n",
              "    border-bottom-color: var(--fill-color);\n",
              "    animation:\n",
              "      spin 1s steps(1) infinite;\n",
              "  }\n",
              "\n",
              "  @keyframes spin {\n",
              "    0% {\n",
              "      border-color: transparent;\n",
              "      border-bottom-color: var(--fill-color);\n",
              "      border-left-color: var(--fill-color);\n",
              "    }\n",
              "    20% {\n",
              "      border-color: transparent;\n",
              "      border-left-color: var(--fill-color);\n",
              "      border-top-color: var(--fill-color);\n",
              "    }\n",
              "    30% {\n",
              "      border-color: transparent;\n",
              "      border-left-color: var(--fill-color);\n",
              "      border-top-color: var(--fill-color);\n",
              "      border-right-color: var(--fill-color);\n",
              "    }\n",
              "    40% {\n",
              "      border-color: transparent;\n",
              "      border-right-color: var(--fill-color);\n",
              "      border-top-color: var(--fill-color);\n",
              "    }\n",
              "    60% {\n",
              "      border-color: transparent;\n",
              "      border-right-color: var(--fill-color);\n",
              "    }\n",
              "    80% {\n",
              "      border-color: transparent;\n",
              "      border-right-color: var(--fill-color);\n",
              "      border-bottom-color: var(--fill-color);\n",
              "    }\n",
              "    90% {\n",
              "      border-color: transparent;\n",
              "      border-bottom-color: var(--fill-color);\n",
              "    }\n",
              "  }\n",
              "</style>\n",
              "\n",
              "  <script>\n",
              "    async function quickchart(key) {\n",
              "      const quickchartButtonEl =\n",
              "        document.querySelector('#' + key + ' button');\n",
              "      quickchartButtonEl.disabled = true;  // To prevent multiple clicks.\n",
              "      quickchartButtonEl.classList.add('colab-df-spinner');\n",
              "      try {\n",
              "        const charts = await google.colab.kernel.invokeFunction(\n",
              "            'suggestCharts', [key], {});\n",
              "      } catch (error) {\n",
              "        console.error('Error during call to suggestCharts:', error);\n",
              "      }\n",
              "      quickchartButtonEl.classList.remove('colab-df-spinner');\n",
              "      quickchartButtonEl.classList.add('colab-df-quickchart-complete');\n",
              "    }\n",
              "    (() => {\n",
              "      let quickchartButtonEl =\n",
              "        document.querySelector('#df-67024f14-d5f0-4e65-a002-e3e49669b633 button');\n",
              "      quickchartButtonEl.style.display =\n",
              "        google.colab.kernel.accessAllowed ? 'block' : 'none';\n",
              "    })();\n",
              "  </script>\n",
              "</div>\n",
              "    </div>\n",
              "  </div>\n"
            ],
            "application/vnd.google.colaboratory.intrinsic+json": {
              "type": "dataframe",
              "variable_name": "X",
              "summary": "{\n  \"name\": \"X\",\n  \"rows\": 20640,\n  \"fields\": [\n    {\n      \"column\": \"MedInc\",\n      \"properties\": {\n        \"dtype\": \"number\",\n        \"std\": 1.8998217179452688,\n        \"min\": 0.4999,\n        \"max\": 15.0001,\n        \"num_unique_values\": 12928,\n        \"samples\": [\n          5.0286,\n          2.0433,\n          6.1228\n        ],\n        \"semantic_type\": \"\",\n        \"description\": \"\"\n      }\n    },\n    {\n      \"column\": \"HouseAge\",\n      \"properties\": {\n        \"dtype\": \"number\",\n        \"std\": 12.58555761211165,\n        \"min\": 1.0,\n        \"max\": 52.0,\n        \"num_unique_values\": 52,\n        \"samples\": [\n          35.0,\n          25.0,\n          7.0\n        ],\n        \"semantic_type\": \"\",\n        \"description\": \"\"\n      }\n    },\n    {\n      \"column\": \"AveRooms\",\n      \"properties\": {\n        \"dtype\": \"number\",\n        \"std\": 2.4741731394243187,\n        \"min\": 0.8461538461538461,\n        \"max\": 141.9090909090909,\n        \"num_unique_values\": 19392,\n        \"samples\": [\n          6.111269614835948,\n          5.912820512820513,\n          5.7924528301886795\n        ],\n        \"semantic_type\": \"\",\n        \"description\": \"\"\n      }\n    },\n    {\n      \"column\": \"AveBedrms\",\n      \"properties\": {\n        \"dtype\": \"number\",\n        \"std\": 0.473910856795466,\n        \"min\": 0.3333333333333333,\n        \"max\": 34.06666666666667,\n        \"num_unique_values\": 14233,\n        \"samples\": [\n          0.9906542056074766,\n          1.112099644128114,\n          1.0398230088495575\n        ],\n        \"semantic_type\": \"\",\n        \"description\": \"\"\n      }\n    },\n    {\n      \"column\": \"Population\",\n      \"properties\": {\n        \"dtype\": \"number\",\n        \"std\": 1132.462121765341,\n        \"min\": 3.0,\n        \"max\": 35682.0,\n        \"num_unique_values\": 3888,\n        \"samples\": [\n          4169.0,\n          636.0,\n          3367.0\n        ],\n        \"semantic_type\": \"\",\n        \"description\": \"\"\n      }\n    },\n    {\n      \"column\": \"AveOccup\",\n      \"properties\": {\n        \"dtype\": \"number\",\n        \"std\": 10.386049562213618,\n        \"min\": 0.6923076923076923,\n        \"max\": 1243.3333333333333,\n        \"num_unique_values\": 18841,\n        \"samples\": [\n          2.6939799331103678,\n          3.559375,\n          3.297082228116711\n        ],\n        \"semantic_type\": \"\",\n        \"description\": \"\"\n      }\n    },\n    {\n      \"column\": \"Latitude\",\n      \"properties\": {\n        \"dtype\": \"number\",\n        \"std\": 2.1359523974571153,\n        \"min\": 32.54,\n        \"max\": 41.95,\n        \"num_unique_values\": 862,\n        \"samples\": [\n          33.7,\n          34.41,\n          38.24\n        ],\n        \"semantic_type\": \"\",\n        \"description\": \"\"\n      }\n    },\n    {\n      \"column\": \"Longitude\",\n      \"properties\": {\n        \"dtype\": \"number\",\n        \"std\": 2.0035317235025882,\n        \"min\": -124.35,\n        \"max\": -114.31,\n        \"num_unique_values\": 844,\n        \"samples\": [\n          -118.63,\n          -119.86,\n          -121.26\n        ],\n        \"semantic_type\": \"\",\n        \"description\": \"\"\n      }\n    }\n  ]\n}"
            }
          },
          "metadata": {},
          "execution_count": 8
        }
      ],
      "source": [
        "data = fetch_california_housing()\n",
        "X = pd.DataFrame(data=data[\"data\"], columns=data[\"feature_names\"])\n",
        "y = data[\"target\"]\n",
        "X.head()"
      ]
    },
    {
      "cell_type": "code",
      "execution_count": null,
      "metadata": {
        "id": "SWYYDhl0w59q",
        "colab": {
          "base_uri": "https://localhost:8080/"
        },
        "outputId": "b81e5d01-19a4-4672-e254-8e4a873cc145"
      },
      "outputs": [
        {
          "output_type": "execute_result",
          "data": {
            "text/plain": [
              "array([4.526, 3.585, 3.521, ..., 0.923, 0.847, 0.894])"
            ]
          },
          "metadata": {},
          "execution_count": 9
        }
      ],
      "source": [
        "y"
      ]
    },
    {
      "cell_type": "markdown",
      "metadata": {
        "id": "qa8Gl4f-w59q"
      },
      "source": [
        "Выведите график зависимости значения критерия ошибки от порогового значения при разбиении вершины по признаку `MedInc`."
      ]
    },
    {
      "cell_type": "code",
      "execution_count": null,
      "metadata": {
        "id": "U98ihNExw59q"
      },
      "outputs": [],
      "source": [
        "a, b, c, d = find_best_split(X['MedInc'].values, y, 'regression', 'real')"
      ]
    },
    {
      "cell_type": "code",
      "source": [
        "plt.plot(a, b)"
      ],
      "metadata": {
        "colab": {
          "base_uri": "https://localhost:8080/",
          "height": 447
        },
        "id": "hN7H2R-_rJSI",
        "outputId": "7be040ae-3531-4da0-996f-1aa3e585838f"
      },
      "execution_count": null,
      "outputs": [
        {
          "output_type": "execute_result",
          "data": {
            "text/plain": [
              "[<matplotlib.lines.Line2D at 0x7f2df0897130>]"
            ]
          },
          "metadata": {},
          "execution_count": 11
        },
        {
          "output_type": "display_data",
          "data": {
            "text/plain": [
              "<Figure size 640x480 with 1 Axes>"
            ],
            "image/png": "[encoded data removed]"
          },
          "metadata": {}
        }
      ]
    },
    {
      "cell_type": "markdown",
      "metadata": {
        "id": "FBa38qVGw59q"
      },
      "source": [
        "Найдите лучший, с вашей точки зрения, предикат первой вершины решающего дерева."
      ]
    },
    {
      "cell_type": "code",
      "execution_count": null,
      "metadata": {
        "id": "7fsh39KPw59q",
        "colab": {
          "base_uri": "https://localhost:8080/"
        },
        "outputId": "180233f9-8ebd-4fa0-dc4c-29e126e63c2a"
      },
      "outputs": [
        {
          "output_type": "stream",
          "name": "stdout",
          "text": [
            "MedInc 5.03515 0.41275138620167656\n",
            "HouseAge 51.5 0.030900940598321186\n",
            "AveRooms 6.374305146225346 0.15920795258922488\n",
            "AveBedrms 1.1033776245480702 0.01525341559594362\n",
            "Population 1160.5 0.0028306480479909357\n",
            "AveOccup 3.1125433206272035 0.07391870577793286\n",
            "Latitude 37.935 0.09033408765372021\n",
            "Longitude -121.86500000000001 0.05021105203303022\n"
          ]
        }
      ],
      "source": [
        "for i in X.columns:\n",
        "  a, b, c, d = find_best_split(X[i].values, y, 'regression', 'real')\n",
        "  print(i, c, d)"
      ]
    },
    {
      "cell_type": "markdown",
      "source": [
        "ЛУчший предикат у признака MedInc со значением 5.03515"
      ],
      "metadata": {
        "id": "aJFn_CR6bE79"
      }
    },
    {
      "cell_type": "markdown",
      "metadata": {
        "id": "HzmAsiLWw59q"
      },
      "source": [
        "**Задание 2.2 (1 балл)** Разберитесь с написанным кодом решающего дерева, заполните пропуски в коде и реализуйте недостающий метод `_predict_node()`.\n",
        "\n",
        "Построение дерева осуществляется согласно базовому жадному алгоритму, предложенному в лекции в разделе «Построение дерева».\n",
        "- **Выбор лучшего разбиения** необходимо производить по критерию Джини.\n",
        "- **Критерий останова:** все объекты в листе относятся к одному классу или ни по одному признаку нельзя разбить выборку.\n",
        "- **Ответ в листе:** наиболее часто встречающийся класс в листе.\n",
        "\n",
        "В задаче также предлагается получить два бонуса, по баллу на каждый!\n",
        "\n",
        "- **Реализуйте способ обрабатывать пропуски в даннх и реализуйте его, пояснив свои действия.**\n",
        "- **Реализуйте метод оценки важности признаков.**"
      ]
    },
    {
      "cell_type": "code",
      "source": [
        "class DecisionTree:\n",
        "\n",
        "    def __init__(\n",
        "        self,\n",
        "        feature_types: Union[List[str], np.ndarray],\n",
        "        max_depth: int = None,\n",
        "        min_samples_split: int = None,\n",
        "        min_samples_leaf: int = None,\n",
        "        task: str = \"classification\"\n",
        "    ) -> None:\n",
        "\n",
        "        if np.any(list(map(lambda x: x != \"real\" and x != \"categorical\", feature_types))):\n",
        "            raise ValueError(\"There is unknown feature type\")\n",
        "\n",
        "        # В этой переменной будем хранить узлы решающего дерева. Каждая вершина хранит в себе идентификатор того,\n",
        "        # является ли она листовой. Листовые вершины хранят значение класса для предсказания, нелистовые - правого и\n",
        "        # левого детей (поддеревья для продолжения процедуры предсказания)\n",
        "        self._tree = {}\n",
        "\n",
        "        # типы признаков (категориальные или числовые)\n",
        "        self._feature_types = feature_types\n",
        "\n",
        "        # гиперпараметры дерева\n",
        "        self._max_depth = max_depth\n",
        "        self._min_samples_split = min_samples_split\n",
        "        self._min_samples_leaf = min_samples_leaf\n",
        "        self.task = task\n",
        "\n",
        "        # Переменная, если вы решите делать бонус\n",
        "        self._feature_importances = {}\n",
        "\n",
        "\n",
        "    def _fit_node(\n",
        "        self,\n",
        "        sub_X: np.ndarray,\n",
        "        sub_y: np.ndarray,\n",
        "        node: dict\n",
        "    ) -> None:\n",
        "\n",
        "        # критерий останова\n",
        "        if np.all(sub_y == sub_y[0]):\n",
        "            node[\"type\"] = \"terminal\"\n",
        "            node[\"class\"] = sub_y[0]\n",
        "            return\n",
        "\n",
        "        feature_best, threshold_best, gini_best, split = None, None, None, None\n",
        "        for feature in range(sub_X.shape[1]):\n",
        "            feature_type = self._feature_types[feature]\n",
        "            categories_map = {}\n",
        "\n",
        "            # подготавливаем признак для поиска оптимального порога\n",
        "            if feature_type == \"real\":\n",
        "                feature_vector = sub_X[:, feature]\n",
        "            elif feature_type == \"categorical\":\n",
        "                # здесь могла быть реализация более сложного подхода к обработке категориального признака\n",
        "                feature_vector = sub_X[:, feature]\n",
        "\n",
        "            # ищем оптимальный порог\n",
        "            _, _, threshold, gini = find_best_split(feature_vector, sub_y, self.task, feature_type)\n",
        "\n",
        "            if gini_best is None or gini > gini_best:\n",
        "                feature_best = feature\n",
        "                gini_best = gini\n",
        "\n",
        "                # split - маска на объекты, которые должны попасть в левое поддерево\n",
        "                if feature_type == \"real\":\n",
        "                    threshold_best = threshold\n",
        "                    split = feature_vector < threshold_best\n",
        "                elif feature_type == \"categorical\":\n",
        "                    # в данной реализации это просто значение категории\n",
        "                    threshold_best = threshold\n",
        "                    split = feature_vector == threshold_best\n",
        "                else:\n",
        "                    raise ValueError\n",
        "\n",
        "        # записываем полученные сплиты в атрибуты класса\n",
        "        if feature_best is None:\n",
        "            node[\"type\"] = \"terminal\"\n",
        "            node[\"class\"] = Counter(sub_y).most_common(1)[0][0]\n",
        "            return\n",
        "\n",
        "        node[\"type\"] = \"nonterminal\"\n",
        "\n",
        "        node[\"feature_split\"] = feature_best\n",
        "        if self._feature_types[feature_best] == \"real\":\n",
        "            node[\"threshold\"] = threshold_best\n",
        "        elif self._feature_types[feature_best] == \"categorical\":\n",
        "            node[\"category_split\"] = threshold_best\n",
        "        else:\n",
        "            raise ValueError\n",
        "\n",
        "        node[\"left_child\"], node[\"right_child\"] = {}, {}\n",
        "        self._fit_node(sub_X[split], sub_y[split], node[\"left_child\"])\n",
        "        self._fit_node(sub_X[np.logical_not(split)], sub_y[np.logical_not(split)], node[\"right_child\"])\n",
        "\n",
        "    def _predict_node(self, x: np.ndarray, node: dict) -> int:\n",
        "        \"\"\"\n",
        "        Предсказание начинается с корневой вершины дерева и рекурсивно идёт в левое или правое поддерево в зависимости от значения\n",
        "        предиката на объекте. Листовая вершина возвращает предсказание.\n",
        "        :param x: np.array, элемент выборки\n",
        "        :param node: dict, вершина дерева\n",
        "        \"\"\"\n",
        "        if node['type'] == 'terminal':\n",
        "            return node['class']\n",
        "        feature_index = node['feature_split']\n",
        "        feature_value = x[feature_index]\n",
        "\n",
        "        if self._feature_types[feature_index] == 'real':\n",
        "            left_condition = feature_value < node['threshold']\n",
        "        elif self._feature_types[feature_index] == 'categorical':\n",
        "            left_condition = feature_value == node['category_split']\n",
        "\n",
        "        if left_condition:\n",
        "            return self._predict_node(x, node[\"left_child\"])\n",
        "        else:\n",
        "            return self._predict_node(x, node[\"right_child\"])\n",
        "        pass\n",
        "\n",
        "    def fit(self, X: np.ndarray, y: np.ndarray) -> None:\n",
        "        self._fit_node(X, y, self._tree)\n",
        "\n",
        "    def predict(self, X: np.ndarray) -> np.ndarray:\n",
        "        predicted = []\n",
        "        for x in X:\n",
        "            predicted.append(self._predict_node(x, self._tree))\n",
        "\n",
        "        return np.array(predicted)"
      ],
      "metadata": {
        "id": "6Q9HVmNsEGKi"
      },
      "execution_count": null,
      "outputs": []
    },
    {
      "cell_type": "markdown",
      "metadata": {
        "id": "TvctoZOSw59q"
      },
      "source": [
        "**Задание 2.3 (1 балл)** Загрузите таблицу `students.csv` (это немного преобразованный датасет [User Knowledge](https://archive.ics.uci.edu/ml/datasets/User+Knowledge+Modeling)). В ней признаки объекта записаны в первых пяти столбцах, а в последнем записана целевая переменная (класс: 0 или 1). Постройте на одном изображении пять кривых \"порог — значение критерия Джини\" для всех пяти признаков. Отдельно визуализируйте диаграммы рассеяния \"значение признака — класс\" для всех пяти признаков."
      ]
    },
    {
      "cell_type": "code",
      "execution_count": null,
      "metadata": {
        "id": "b__bcE7Cw59q",
        "colab": {
          "base_uri": "https://localhost:8080/",
          "height": 224
        },
        "outputId": "b74b8341-a97a-4f07-dac1-7a53e53c6656"
      },
      "outputs": [
        {
          "output_type": "stream",
          "name": "stdout",
          "text": [
            "Dataset shape: (258, 7)\n"
          ]
        },
        {
          "output_type": "execute_result",
          "data": {
            "text/plain": [
              "   Unnamed: 0   STG   SCG   STR   LPR   PEG  UNS\n",
              "0           0  0.00  0.00  0.00  0.00  0.00    0\n",
              "1           1  0.08  0.08  0.10  0.24  0.90    1\n",
              "2           2  0.06  0.06  0.05  0.25  0.33    0\n",
              "3           3  0.10  0.10  0.15  0.65  0.30    1\n",
              "4           4  0.08  0.08  0.08  0.98  0.24    0"
            ],
            "text/html": [
              "\n",
              "  <div id=\"df-91bc5337-7fbf-459c-a914-5791fc79946d\" class=\"colab-df-container\">\n",
              "    <div>\n",
              "<style scoped>\n",
              "    .dataframe tbody tr th:only-of-type {\n",
              "        vertical-align: middle;\n",
              "    }\n",
              "\n",
              "    .dataframe tbody tr th {\n",
              "        vertical-align: top;\n",
              "    }\n",
              "\n",
              "    .dataframe thead th {\n",
              "        text-align: right;\n",
              "    }\n",
              "</style>\n",
              "<table border=\"1\" class=\"dataframe\">\n",
              "  <thead>\n",
              "    <tr style=\"text-align: right;\">\n",
              "      <th></th>\n",
              "      <th>Unnamed: 0</th>\n",
              "      <th>STG</th>\n",
              "      <th>SCG</th>\n",
              "      <th>STR</th>\n",
              "      <th>LPR</th>\n",
              "      <th>PEG</th>\n",
              "      <th>UNS</th>\n",
              "    </tr>\n",
              "  </thead>\n",
              "  <tbody>\n",
              "    <tr>\n",
              "      <th>0</th>\n",
              "      <td>0</td>\n",
              "      <td>0.00</td>\n",
              "      <td>0.00</td>\n",
              "      <td>0.00</td>\n",
              "      <td>0.00</td>\n",
              "      <td>0.00</td>\n",
              "      <td>0</td>\n",
              "    </tr>\n",
              "    <tr>\n",
              "      <th>1</th>\n",
              "      <td>1</td>\n",
              "      <td>0.08</td>\n",
              "      <td>0.08</td>\n",
              "      <td>0.10</td>\n",
              "      <td>0.24</td>\n",
              "      <td>0.90</td>\n",
              "      <td>1</td>\n",
              "    </tr>\n",
              "    <tr>\n",
              "      <th>2</th>\n",
              "      <td>2</td>\n",
              "      <td>0.06</td>\n",
              "      <td>0.06</td>\n",
              "      <td>0.05</td>\n",
              "      <td>0.25</td>\n",
              "      <td>0.33</td>\n",
              "      <td>0</td>\n",
              "    </tr>\n",
              "    <tr>\n",
              "      <th>3</th>\n",
              "      <td>3</td>\n",
              "      <td>0.10</td>\n",
              "      <td>0.10</td>\n",
              "      <td>0.15</td>\n",
              "      <td>0.65</td>\n",
              "      <td>0.30</td>\n",
              "      <td>1</td>\n",
              "    </tr>\n",
              "    <tr>\n",
              "      <th>4</th>\n",
              "      <td>4</td>\n",
              "      <td>0.08</td>\n",
              "      <td>0.08</td>\n",
              "      <td>0.08</td>\n",
              "      <td>0.98</td>\n",
              "      <td>0.24</td>\n",
              "      <td>0</td>\n",
              "    </tr>\n",
              "  </tbody>\n",
              "</table>\n",
              "</div>\n",
              "    <div class=\"colab-df-buttons\">\n",
              "\n",
              "  <div class=\"colab-df-container\">\n",
              "    <button class=\"colab-df-convert\" onclick=\"convertToInteractive('df-91bc5337-7fbf-459c-a914-5791fc79946d')\"\n",
              "            title=\"Convert this dataframe to an interactive table.\"\n",
              "            style=\"display:none;\">\n",
              "\n",
              "  <svg xmlns=\"http://www.w3.org/2000/svg\" height=\"24px\" viewBox=\"0 -960 960 960\">\n",
              "    <path d=\"M120-120v-720h720v720H120Zm60-500h600v-160H180v160Zm220 220h160v-160H400v160Zm0 220h160v-160H400v160ZM180-400h160v-160H180v160Zm440 0h160v-160H620v160ZM180-180h160v-160H180v160Zm440 0h160v-160H620v160Z\"/>\n",
              "  </svg>\n",
              "    </button>\n",
              "\n",
              "  <style>\n",
              "    .colab-df-container {\n",
              "      display:flex;\n",
              "      gap: 12px;\n",
              "    }\n",
              "\n",
              "    .colab-df-convert {\n",
              "      background-color: #E8F0FE;\n",
              "      border: none;\n",
              "      border-radius: 50%;\n",
              "      cursor: pointer;\n",
              "      display: none;\n",
              "      fill: #1967D2;\n",
              "      height: 32px;\n",
              "      padding: 0 0 0 0;\n",
              "      width: 32px;\n",
              "    }\n",
              "\n",
              "    .colab-df-convert:hover {\n",
              "      background-color: #E2EBFA;\n",
              "      box-shadow: 0px 1px 2px rgba(60, 64, 67, 0.3), 0px 1px 3px 1px rgba(60, 64, 67, 0.15);\n",
              "      fill: #174EA6;\n",
              "    }\n",
              "\n",
              "    .colab-df-buttons div {\n",
              "      margin-bottom: 4px;\n",
              "    }\n",
              "\n",
              "    [theme=dark] .colab-df-convert {\n",
              "      background-color: #3B4455;\n",
              "      fill: #D2E3FC;\n",
              "    }\n",
              "\n",
              "    [theme=dark] .colab-df-convert:hover {\n",
              "      background-color: #434B5C;\n",
              "      box-shadow: 0px 1px 3px 1px rgba(0, 0, 0, 0.15);\n",
              "      filter: drop-shadow(0px 1px 2px rgba(0, 0, 0, 0.3));\n",
              "      fill: #FFFFFF;\n",
              "    }\n",
              "  </style>\n",
              "\n",
              "    <script>\n",
              "      const buttonEl =\n",
              "        document.querySelector('#df-91bc5337-7fbf-459c-a914-5791fc79946d button.colab-df-convert');\n",
              "      buttonEl.style.display =\n",
              "        google.colab.kernel.accessAllowed ? 'block' : 'none';\n",
              "\n",
              "      async function convertToInteractive(key) {\n",
              "        const element = document.querySelector('#df-91bc5337-7fbf-459c-a914-5791fc79946d');\n",
              "        const dataTable =\n",
              "          await google.colab.kernel.invokeFunction('convertToInteractive',\n",
              "                                                    [key], {});\n",
              "        if (!dataTable) return;\n",
              "\n",
              "        const docLinkHtml = 'Like what you see? Visit the ' +\n",
              "          '<a target=\"_blank\" href=https://colab.research.google.com/notebooks/data_table.ipynb>data table notebook</a>'\n",
              "          + ' to learn more about interactive tables.';\n",
              "        element.innerHTML = '';\n",
              "        dataTable['output_type'] = 'display_data';\n",
              "        await google.colab.output.renderOutput(dataTable, element);\n",
              "        const docLink = document.createElement('div');\n",
              "        docLink.innerHTML = docLinkHtml;\n",
              "        element.appendChild(docLink);\n",
              "      }\n",
              "    </script>\n",
              "  </div>\n",
              "\n",
              "\n",
              "<div id=\"df-0b9eab8c-e9ab-42ce-90c7-0c69b0d5ac5f\">\n",
              "  <button class=\"colab-df-quickchart\" onclick=\"quickchart('df-0b9eab8c-e9ab-42ce-90c7-0c69b0d5ac5f')\"\n",
              "            title=\"Suggest charts\"\n",
              "            style=\"display:none;\">\n",
              "\n",
              "<svg xmlns=\"http://www.w3.org/2000/svg\" height=\"24px\"viewBox=\"0 0 24 24\"\n",
              "     width=\"24px\">\n",
              "    <g>\n",
              "        <path d=\"M19 3H5c-1.1 0-2 .9-2 2v14c0 1.1.9 2 2 2h14c1.1 0 2-.9 2-2V5c0-1.1-.9-2-2-2zM9 17H7v-7h2v7zm4 0h-2V7h2v10zm4 0h-2v-4h2v4z\"/>\n",
              "    </g>\n",
              "</svg>\n",
              "  </button>\n",
              "\n",
              "<style>\n",
              "  .colab-df-quickchart {\n",
              "      --bg-color: #E8F0FE;\n",
              "      --fill-color: #1967D2;\n",
              "      --hover-bg-color: #E2EBFA;\n",
              "      --hover-fill-color: #174EA6;\n",
              "      --disabled-fill-color: #AAA;\n",
              "      --disabled-bg-color: #DDD;\n",
              "  }\n",
              "\n",
              "  [theme=dark] .colab-df-quickchart {\n",
              "      --bg-color: #3B4455;\n",
              "      --fill-color: #D2E3FC;\n",
              "      --hover-bg-color: #434B5C;\n",
              "      --hover-fill-color: #FFFFFF;\n",
              "      --disabled-bg-color: #3B4455;\n",
              "      --disabled-fill-color: #666;\n",
              "  }\n",
              "\n",
              "  .colab-df-quickchart {\n",
              "    background-color: var(--bg-color);\n",
              "    border: none;\n",
              "    border-radius: 50%;\n",
              "    cursor: pointer;\n",
              "    display: none;\n",
              "    fill: var(--fill-color);\n",
              "    height: 32px;\n",
              "    padding: 0;\n",
              "    width: 32px;\n",
              "  }\n",
              "\n",
              "  .colab-df-quickchart:hover {\n",
              "    background-color: var(--hover-bg-color);\n",
              "    box-shadow: 0 1px 2px rgba(60, 64, 67, 0.3), 0 1px 3px 1px rgba(60, 64, 67, 0.15);\n",
              "    fill: var(--button-hover-fill-color);\n",
              "  }\n",
              "\n",
              "  .colab-df-quickchart-complete:disabled,\n",
              "  .colab-df-quickchart-complete:disabled:hover {\n",
              "    background-color: var(--disabled-bg-color);\n",
              "    fill: var(--disabled-fill-color);\n",
              "    box-shadow: none;\n",
              "  }\n",
              "\n",
              "  .colab-df-spinner {\n",
              "    border: 2px solid var(--fill-color);\n",
              "    border-color: transparent;\n",
              "    border-bottom-color: var(--fill-color);\n",
              "    animation:\n",
              "      spin 1s steps(1) infinite;\n",
              "  }\n",
              "\n",
              "  @keyframes spin {\n",
              "    0% {\n",
              "      border-color: transparent;\n",
              "      border-bottom-color: var(--fill-color);\n",
              "      border-left-color: var(--fill-color);\n",
              "    }\n",
              "    20% {\n",
              "      border-color: transparent;\n",
              "      border-left-color: var(--fill-color);\n",
              "      border-top-color: var(--fill-color);\n",
              "    }\n",
              "    30% {\n",
              "      border-color: transparent;\n",
              "      border-left-color: var(--fill-color);\n",
              "      border-top-color: var(--fill-color);\n",
              "      border-right-color: var(--fill-color);\n",
              "    }\n",
              "    40% {\n",
              "      border-color: transparent;\n",
              "      border-right-color: var(--fill-color);\n",
              "      border-top-color: var(--fill-color);\n",
              "    }\n",
              "    60% {\n",
              "      border-color: transparent;\n",
              "      border-right-color: var(--fill-color);\n",
              "    }\n",
              "    80% {\n",
              "      border-color: transparent;\n",
              "      border-right-color: var(--fill-color);\n",
              "      border-bottom-color: var(--fill-color);\n",
              "    }\n",
              "    90% {\n",
              "      border-color: transparent;\n",
              "      border-bottom-color: var(--fill-color);\n",
              "    }\n",
              "  }\n",
              "</style>\n",
              "\n",
              "  <script>\n",
              "    async function quickchart(key) {\n",
              "      const quickchartButtonEl =\n",
              "        document.querySelector('#' + key + ' button');\n",
              "      quickchartButtonEl.disabled = true;  // To prevent multiple clicks.\n",
              "      quickchartButtonEl.classList.add('colab-df-spinner');\n",
              "      try {\n",
              "        const charts = await google.colab.kernel.invokeFunction(\n",
              "            'suggestCharts', [key], {});\n",
              "      } catch (error) {\n",
              "        console.error('Error during call to suggestCharts:', error);\n",
              "      }\n",
              "      quickchartButtonEl.classList.remove('colab-df-spinner');\n",
              "      quickchartButtonEl.classList.add('colab-df-quickchart-complete');\n",
              "    }\n",
              "    (() => {\n",
              "      let quickchartButtonEl =\n",
              "        document.querySelector('#df-0b9eab8c-e9ab-42ce-90c7-0c69b0d5ac5f button');\n",
              "      quickchartButtonEl.style.display =\n",
              "        google.colab.kernel.accessAllowed ? 'block' : 'none';\n",
              "    })();\n",
              "  </script>\n",
              "</div>\n",
              "    </div>\n",
              "  </div>\n"
            ],
            "application/vnd.google.colaboratory.intrinsic+json": {
              "type": "dataframe",
              "variable_name": "df",
              "summary": "{\n  \"name\": \"df\",\n  \"rows\": 258,\n  \"fields\": [\n    {\n      \"column\": \"Unnamed: 0\",\n      \"properties\": {\n        \"dtype\": \"number\",\n        \"std\": 74,\n        \"min\": 0,\n        \"max\": 257,\n        \"num_unique_values\": 258,\n        \"samples\": [\n          66,\n          45,\n          9\n        ],\n        \"semantic_type\": \"\",\n        \"description\": \"\"\n      }\n    },\n    {\n      \"column\": \"STG\",\n      \"properties\": {\n        \"dtype\": \"number\",\n        \"std\": 0.21027120159970078,\n        \"min\": 0.0,\n        \"max\": 0.99,\n        \"num_unique_values\": 104,\n        \"samples\": [\n          0.295,\n          0.475,\n          0.465\n        ],\n        \"semantic_type\": \"\",\n        \"description\": \"\"\n      }\n    },\n    {\n      \"column\": \"SCG\",\n      \"properties\": {\n        \"dtype\": \"number\",\n        \"std\": 0.21196232184048855,\n        \"min\": 0.0,\n        \"max\": 0.9,\n        \"num_unique_values\": 89,\n        \"samples\": [\n          0.77,\n          0.69,\n          0.49\n        ],\n        \"semantic_type\": \"\",\n        \"description\": \"\"\n      }\n    },\n    {\n      \"column\": \"STR\",\n      \"properties\": {\n        \"dtype\": \"number\",\n        \"std\": 0.2459397683066402,\n        \"min\": 0.0,\n        \"max\": 0.95,\n        \"num_unique_values\": 83,\n        \"samples\": [\n          0.61,\n          0.0,\n          0.62\n        ],\n        \"semantic_type\": \"\",\n        \"description\": \"\"\n      }\n    },\n    {\n      \"column\": \"LPR\",\n      \"properties\": {\n        \"dtype\": \"number\",\n        \"std\": 0.24810802196816695,\n        \"min\": 0.0,\n        \"max\": 0.99,\n        \"num_unique_values\": 80,\n        \"samples\": [\n          0.64,\n          0.0,\n          0.18\n        ],\n        \"semantic_type\": \"\",\n        \"description\": \"\"\n      }\n    },\n    {\n      \"column\": \"PEG\",\n      \"properties\": {\n        \"dtype\": \"number\",\n        \"std\": 0.25521089251667145,\n        \"min\": 0.0,\n        \"max\": 0.93,\n        \"num_unique_values\": 80,\n        \"samples\": [\n          0.86,\n          0.0,\n          0.82\n        ],\n        \"semantic_type\": \"\",\n        \"description\": \"\"\n      }\n    },\n    {\n      \"column\": \"UNS\",\n      \"properties\": {\n        \"dtype\": \"number\",\n        \"std\": 0,\n        \"min\": 0,\n        \"max\": 1,\n        \"num_unique_values\": 2,\n        \"samples\": [\n          1,\n          0\n        ],\n        \"semantic_type\": \"\",\n        \"description\": \"\"\n      }\n    }\n  ]\n}"
            }
          },
          "metadata": {},
          "execution_count": 14
        }
      ],
      "source": [
        "df = pd.read_csv('students.csv')\n",
        "print(f\"Dataset shape: {df.shape}\")\n",
        "df.head()"
      ]
    },
    {
      "cell_type": "code",
      "source": [
        "y = df['UNS']\n",
        "X = df.drop('UNS', axis = 1)\n",
        "\n",
        "a, b, c, d = find_best_split(X['STG'].values, y.values, 'classification', 'real')\n",
        "a1, b1, c1, d1 = find_best_split(X['SCG'].values, y.values, 'classification', 'real')\n",
        "a2, b2, c2, d2 = find_best_split(X['STR'].values, y.values, 'classification', 'real')\n",
        "a3, b3, c3, d3 = find_best_split(X['LPR'].values, y.values, 'classification', 'real')\n",
        "a4, b4, c4, d4 = find_best_split(X['PEG'].values, y.values, 'classification', 'real')\n",
        "\n",
        "\n",
        "plt.figure(figsize=(13, 6))\n",
        "plt.plot(a, b, label=\"STG\")\n",
        "plt.plot(a1, b1, label=\"SCG\")\n",
        "plt.plot(a2, b2, label=\"STR\")\n",
        "plt.plot(a3, b3, label=\"LPR\")\n",
        "plt.plot(a4, b4, label=\"PEG\")\n",
        "\n",
        "plt.title(\"Значение критерия Джини в зависимости от порога предиката\")\n",
        "plt.legend()\n",
        "plt.xlabel(\"Значение порога\")\n",
        "plt.ylabel(r\"Критерий Джини\")\n",
        "plt.grid()\n",
        "plt.show()"
      ],
      "metadata": {
        "colab": {
          "base_uri": "https://localhost:8080/",
          "height": 564
        },
        "id": "HJjABzF5EuRI",
        "outputId": "2fb88cb0-a200-46e6-a510-3b261e588cca"
      },
      "execution_count": null,
      "outputs": [
        {
          "output_type": "display_data",
          "data": {
            "text/plain": [
              "<Figure size 1300x600 with 1 Axes>"
            ],
            "image/png": "[encoded data removed]"
          },
          "metadata": {}
        }
      ]
    },
    {
      "cell_type": "code",
      "source": [
        "plt.figure(figsize=(13, 10))\n",
        "\n",
        "plt.subplot(2, 3, 1)\n",
        "plt.scatter(y, X['STG'])\n",
        "plt.title(\"Диаграмма рассеяния STG - класс\")\n",
        "plt.xlabel(\"Класс\")\n",
        "plt.ylabel(r\"Значение признака\")\n",
        "\n",
        "plt.subplot(2, 3, 2)\n",
        "plt.scatter(y, X['SCG'])\n",
        "plt.title(\"Диаграмма рассеяния SCG - класс\")\n",
        "plt.xlabel(\"Класс\")\n",
        "plt.ylabel(r\"Значение признака\")\n",
        "\n",
        "plt.subplot(2, 3, 3)\n",
        "plt.scatter(y, X['STR'])\n",
        "plt.title(\"Диаграмма рассеяния STR - класс\")\n",
        "plt.xlabel(\"Класс\")\n",
        "plt.ylabel(r\"Значение признака\")\n",
        "\n",
        "plt.subplot(2, 3, 4)\n",
        "plt.scatter(y, X['LPR'])\n",
        "plt.title(\"Диаграмма рассеяния LPR - класс\")\n",
        "plt.xlabel(\"Класс\")\n",
        "plt.ylabel(r\"Значение признака\")\n",
        "\n",
        "plt.subplot(2, 3, 5)\n",
        "plt.scatter(y, X['PEG'])\n",
        "plt.title(\"Диаграмма рассеяния PEG - класс\")\n",
        "plt.xlabel(\"Класс\")\n",
        "plt.ylabel(r\"Значение признака\")"
      ],
      "metadata": {
        "colab": {
          "base_uri": "https://localhost:8080/",
          "height": 889
        },
        "id": "z8u8LTBATY0b",
        "outputId": "cb37ef52-46e1-4c38-e86b-e0af467b9efa"
      },
      "execution_count": null,
      "outputs": [
        {
          "output_type": "execute_result",
          "data": {
            "text/plain": [
              "Text(0, 0.5, 'Значение признака')"
            ]
          },
          "metadata": {},
          "execution_count": 16
        },
        {
          "output_type": "display_data",
          "data": {
            "text/plain": [
              "<Figure size 1300x1000 with 5 Axes>"
            ],
            "image/png": "[encoded data removed]"
          },
          "metadata": {}
        }
      ]
    },
    {
      "cell_type": "markdown",
      "metadata": {
        "id": "mg02gu9iw59q"
      },
      "source": [
        "Исходя из кривых значений критерия Джини, по какому признаку нужно производить деление выборки на два поддерева? Согласуется ли этот результат с визуальной оценкой диаграмм рассеяиния? Как бы охарактеризовали вид кривой для \"хороших\" признаков, по которым выборка делится почти идеально? Чем отличаются кривые для признаков, по которым деление практически невозможно?"
      ]
    },
    {
      "cell_type": "markdown",
      "source": [
        "На графике значений критерия Джини отчётливо выделяется кривая признака 'PEG'. Примерно при пороге 0.35 информационный критерий достигает своего максимального значения. Данный факт также согласуется с диаграммами рассеяния. Диаграмма рассеяния признака 'PEG' явно показывает возможность хорошего разделения объектов по классам. Благодаря этому можно выделить особенность кривой для признака, по которому выборка делится очень хорошо. Кривая имеет характерный холм и в целом чем-то похоже на нормальное распределение. При этом кривые \"плохих\" признаков выглядят практически пологими и не имеют существенных отличий друг от друга."
      ],
      "metadata": {
        "id": "HCOaLFiSYMTU"
      }
    },
    {
      "cell_type": "markdown",
      "metadata": {
        "id": "TvQ1SIrSw59q"
      },
      "source": [
        "**Задание 2.4 (1 балл)** Протестируйте свое решающее дерево на датасете [mushrooms](https://archive.ics.uci.edu/ml/datasets/Mushroom).\n",
        "\n",
        "1. Скачайте таблицу `agaricus-lepiota.data` (из [Data Folder](https://archive.ics.uci.edu/ml/machine-learning-databases/mushroom/)),\n",
        "2. Считайте таблицу при помощи `pandas`,\n",
        "3. Примените к каждому столбцу `LabelEncoder` (из `sklearn`), чтобы преобразовать строковые имена категорий в натуральные числа.\n",
        "\n",
        "Первый столбец — это целевая переменная (e — edible, p — poisonous) Мы будем измерять качество с помощью accuracy, так что нам не очень важно, что будет классом 1, а что — классом 0. Обучите решающее дерево на половине случайно выбранных объектов (признаки в датасете категориальные) и сделайте предсказания для оставшейся половины. Вычислите accuracy."
      ]
    },
    {
      "cell_type": "code",
      "execution_count": null,
      "metadata": {
        "id": "2YwbSfRzw59q",
        "colab": {
          "base_uri": "https://localhost:8080/"
        },
        "outputId": "f7e623f6-b2f8-4e29-e438-f7fbda2b2c89"
      },
      "outputs": [
        {
          "output_type": "stream",
          "name": "stdout",
          "text": [
            "--2024-05-27 19:01:08--  https://archive.ics.uci.edu/static/public/73/mushroom.zip\n",
            "Resolving archive.ics.uci.edu (archive.ics.uci.edu)... 128.195.10.252\n",
            "Connecting to archive.ics.uci.edu (archive.ics.uci.edu)|128.195.10.252|:443... connected.\n",
            "HTTP request sent, awaiting response... 200 OK\n",
            "Length: unspecified\n",
            "Saving to: ‘mushroom.zip’\n",
            "\n",
            "mushroom.zip            [ <=>                ] 138.01K   693KB/s    in 0.2s    \n",
            "\n",
            "2024-05-27 19:01:08 (693 KB/s) - ‘mushroom.zip’ saved [141318]\n",
            "\n",
            "Archive:  mushroom.zip\n",
            "  inflating: Index                   \n",
            "  inflating: README                  \n",
            "  inflating: agaricus-lepiota.data   \n",
            "  inflating: agaricus-lepiota.names  \n",
            "  inflating: expanded.Z              \n"
          ]
        }
      ],
      "source": [
        "!wget https://archive.ics.uci.edu/static/public/73/mushroom.zip\n",
        "!unzip mushroom.zip"
      ]
    },
    {
      "cell_type": "code",
      "source": [
        "mushrooms = pd.read_csv('agaricus-lepiota.data')\n",
        "print(f\"Dataset shape: {mushrooms.shape}\")\n",
        "mushrooms.head()"
      ],
      "metadata": {
        "colab": {
          "base_uri": "https://localhost:8080/",
          "height": 253
        },
        "id": "_fyig5AobfdA",
        "outputId": "328348f4-ab67-46f0-8e50-4f9199203028"
      },
      "execution_count": null,
      "outputs": [
        {
          "output_type": "stream",
          "name": "stdout",
          "text": [
            "Dataset shape: (8123, 23)\n"
          ]
        },
        {
          "output_type": "execute_result",
          "data": {
            "text/plain": [
              "   p  x  s  n  t p.1  f  c n.1  k  ... s.2  w w.1 p.2 w.2  o p.3 k.1 s.3  u\n",
              "0  e  x  s  y  t   a  f  c   b  k  ...   s  w   w   p   w  o   p   n   n  g\n",
              "1  e  b  s  w  t   l  f  c   b  n  ...   s  w   w   p   w  o   p   n   n  m\n",
              "2  p  x  y  w  t   p  f  c   n  n  ...   s  w   w   p   w  o   p   k   s  u\n",
              "3  e  x  s  g  f   n  f  w   b  k  ...   s  w   w   p   w  o   e   n   a  g\n",
              "4  e  x  y  y  t   a  f  c   b  n  ...   s  w   w   p   w  o   p   k   n  g\n",
              "\n",
              "[5 rows x 23 columns]"
            ],
            "text/html": [
              "\n",
              "  <div id=\"df-89a2a0bb-b860-4514-8dc9-99627b2045d9\" class=\"colab-df-container\">\n",
              "    <div>\n",
              "<style scoped>\n",
              "    .dataframe tbody tr th:only-of-type {\n",
              "        vertical-align: middle;\n",
              "    }\n",
              "\n",
              "    .dataframe tbody tr th {\n",
              "        vertical-align: top;\n",
              "    }\n",
              "\n",
              "    .dataframe thead th {\n",
              "        text-align: right;\n",
              "    }\n",
              "</style>\n",
              "<table border=\"1\" class=\"dataframe\">\n",
              "  <thead>\n",
              "    <tr style=\"text-align: right;\">\n",
              "      <th></th>\n",
              "      <th>p</th>\n",
              "      <th>x</th>\n",
              "      <th>s</th>\n",
              "      <th>n</th>\n",
              "      <th>t</th>\n",
              "      <th>p.1</th>\n",
              "      <th>f</th>\n",
              "      <th>c</th>\n",
              "      <th>n.1</th>\n",
              "      <th>k</th>\n",
              "      <th>...</th>\n",
              "      <th>s.2</th>\n",
              "      <th>w</th>\n",
              "      <th>w.1</th>\n",
              "      <th>p.2</th>\n",
              "      <th>w.2</th>\n",
              "      <th>o</th>\n",
              "      <th>p.3</th>\n",
              "      <th>k.1</th>\n",
              "      <th>s.3</th>\n",
              "      <th>u</th>\n",
              "    </tr>\n",
              "  </thead>\n",
              "  <tbody>\n",
              "    <tr>\n",
              "      <th>0</th>\n",
              "      <td>e</td>\n",
              "      <td>x</td>\n",
              "      <td>s</td>\n",
              "      <td>y</td>\n",
              "      <td>t</td>\n",
              "      <td>a</td>\n",
              "      <td>f</td>\n",
              "      <td>c</td>\n",
              "      <td>b</td>\n",
              "      <td>k</td>\n",
              "      <td>...</td>\n",
              "      <td>s</td>\n",
              "      <td>w</td>\n",
              "      <td>w</td>\n",
              "      <td>p</td>\n",
              "      <td>w</td>\n",
              "      <td>o</td>\n",
              "      <td>p</td>\n",
              "      <td>n</td>\n",
              "      <td>n</td>\n",
              "      <td>g</td>\n",
              "    </tr>\n",
              "    <tr>\n",
              "      <th>1</th>\n",
              "      <td>e</td>\n",
              "      <td>b</td>\n",
              "      <td>s</td>\n",
              "      <td>w</td>\n",
              "      <td>t</td>\n",
              "      <td>l</td>\n",
              "      <td>f</td>\n",
              "      <td>c</td>\n",
              "      <td>b</td>\n",
              "      <td>n</td>\n",
              "      <td>...</td>\n",
              "      <td>s</td>\n",
              "      <td>w</td>\n",
              "      <td>w</td>\n",
              "      <td>p</td>\n",
              "      <td>w</td>\n",
              "      <td>o</td>\n",
              "      <td>p</td>\n",
              "      <td>n</td>\n",
              "      <td>n</td>\n",
              "      <td>m</td>\n",
              "    </tr>\n",
              "    <tr>\n",
              "      <th>2</th>\n",
              "      <td>p</td>\n",
              "      <td>x</td>\n",
              "      <td>y</td>\n",
              "      <td>w</td>\n",
              "      <td>t</td>\n",
              "      <td>p</td>\n",
              "      <td>f</td>\n",
              "      <td>c</td>\n",
              "      <td>n</td>\n",
              "      <td>n</td>\n",
              "      <td>...</td>\n",
              "      <td>s</td>\n",
              "      <td>w</td>\n",
              "      <td>w</td>\n",
              "      <td>p</td>\n",
              "      <td>w</td>\n",
              "      <td>o</td>\n",
              "      <td>p</td>\n",
              "      <td>k</td>\n",
              "      <td>s</td>\n",
              "      <td>u</td>\n",
              "    </tr>\n",
              "    <tr>\n",
              "      <th>3</th>\n",
              "      <td>e</td>\n",
              "      <td>x</td>\n",
              "      <td>s</td>\n",
              "      <td>g</td>\n",
              "      <td>f</td>\n",
              "      <td>n</td>\n",
              "      <td>f</td>\n",
              "      <td>w</td>\n",
              "      <td>b</td>\n",
              "      <td>k</td>\n",
              "      <td>...</td>\n",
              "      <td>s</td>\n",
              "      <td>w</td>\n",
              "      <td>w</td>\n",
              "      <td>p</td>\n",
              "      <td>w</td>\n",
              "      <td>o</td>\n",
              "      <td>e</td>\n",
              "      <td>n</td>\n",
              "      <td>a</td>\n",
              "      <td>g</td>\n",
              "    </tr>\n",
              "    <tr>\n",
              "      <th>4</th>\n",
              "      <td>e</td>\n",
              "      <td>x</td>\n",
              "      <td>y</td>\n",
              "      <td>y</td>\n",
              "      <td>t</td>\n",
              "      <td>a</td>\n",
              "      <td>f</td>\n",
              "      <td>c</td>\n",
              "      <td>b</td>\n",
              "      <td>n</td>\n",
              "      <td>...</td>\n",
              "      <td>s</td>\n",
              "      <td>w</td>\n",
              "      <td>w</td>\n",
              "      <td>p</td>\n",
              "      <td>w</td>\n",
              "      <td>o</td>\n",
              "      <td>p</td>\n",
              "      <td>k</td>\n",
              "      <td>n</td>\n",
              "      <td>g</td>\n",
              "    </tr>\n",
              "  </tbody>\n",
              "</table>\n",
              "<p>5 rows × 23 columns</p>\n",
              "</div>\n",
              "    <div class=\"colab-df-buttons\">\n",
              "\n",
              "  <div class=\"colab-df-container\">\n",
              "    <button class=\"colab-df-convert\" onclick=\"convertToInteractive('df-89a2a0bb-b860-4514-8dc9-99627b2045d9')\"\n",
              "            title=\"Convert this dataframe to an interactive table.\"\n",
              "            style=\"display:none;\">\n",
              "\n",
              "  <svg xmlns=\"http://www.w3.org/2000/svg\" height=\"24px\" viewBox=\"0 -960 960 960\">\n",
              "    <path d=\"M120-120v-720h720v720H120Zm60-500h600v-160H180v160Zm220 220h160v-160H400v160Zm0 220h160v-160H400v160ZM180-400h160v-160H180v160Zm440 0h160v-160H620v160ZM180-180h160v-160H180v160Zm440 0h160v-160H620v160Z\"/>\n",
              "  </svg>\n",
              "    </button>\n",
              "\n",
              "  <style>\n",
              "    .colab-df-container {\n",
              "      display:flex;\n",
              "      gap: 12px;\n",
              "    }\n",
              "\n",
              "    .colab-df-convert {\n",
              "      background-color: #E8F0FE;\n",
              "      border: none;\n",
              "      border-radius: 50%;\n",
              "      cursor: pointer;\n",
              "      display: none;\n",
              "      fill: #1967D2;\n",
              "      height: 32px;\n",
              "      padding: 0 0 0 0;\n",
              "      width: 32px;\n",
              "    }\n",
              "\n",
              "    .colab-df-convert:hover {\n",
              "      background-color: #E2EBFA;\n",
              "      box-shadow: 0px 1px 2px rgba(60, 64, 67, 0.3), 0px 1px 3px 1px rgba(60, 64, 67, 0.15);\n",
              "      fill: #174EA6;\n",
              "    }\n",
              "\n",
              "    .colab-df-buttons div {\n",
              "      margin-bottom: 4px;\n",
              "    }\n",
              "\n",
              "    [theme=dark] .colab-df-convert {\n",
              "      background-color: #3B4455;\n",
              "      fill: #D2E3FC;\n",
              "    }\n",
              "\n",
              "    [theme=dark] .colab-df-convert:hover {\n",
              "      background-color: #434B5C;\n",
              "      box-shadow: 0px 1px 3px 1px rgba(0, 0, 0, 0.15);\n",
              "      filter: drop-shadow(0px 1px 2px rgba(0, 0, 0, 0.3));\n",
              "      fill: #FFFFFF;\n",
              "    }\n",
              "  </style>\n",
              "\n",
              "    <script>\n",
              "      const buttonEl =\n",
              "        document.querySelector('#df-89a2a0bb-b860-4514-8dc9-99627b2045d9 button.colab-df-convert');\n",
              "      buttonEl.style.display =\n",
              "        google.colab.kernel.accessAllowed ? 'block' : 'none';\n",
              "\n",
              "      async function convertToInteractive(key) {\n",
              "        const element = document.querySelector('#df-89a2a0bb-b860-4514-8dc9-99627b2045d9');\n",
              "        const dataTable =\n",
              "          await google.colab.kernel.invokeFunction('convertToInteractive',\n",
              "                                                    [key], {});\n",
              "        if (!dataTable) return;\n",
              "\n",
              "        const docLinkHtml = 'Like what you see? Visit the ' +\n",
              "          '<a target=\"_blank\" href=https://colab.research.google.com/notebooks/data_table.ipynb>data table notebook</a>'\n",
              "          + ' to learn more about interactive tables.';\n",
              "        element.innerHTML = '';\n",
              "        dataTable['output_type'] = 'display_data';\n",
              "        await google.colab.output.renderOutput(dataTable, element);\n",
              "        const docLink = document.createElement('div');\n",
              "        docLink.innerHTML = docLinkHtml;\n",
              "        element.appendChild(docLink);\n",
              "      }\n",
              "    </script>\n",
              "  </div>\n",
              "\n",
              "\n",
              "<div id=\"df-f989c0fc-3d10-4d4d-9395-b198035ee839\">\n",
              "  <button class=\"colab-df-quickchart\" onclick=\"quickchart('df-f989c0fc-3d10-4d4d-9395-b198035ee839')\"\n",
              "            title=\"Suggest charts\"\n",
              "            style=\"display:none;\">\n",
              "\n",
              "<svg xmlns=\"http://www.w3.org/2000/svg\" height=\"24px\"viewBox=\"0 0 24 24\"\n",
              "     width=\"24px\">\n",
              "    <g>\n",
              "        <path d=\"M19 3H5c-1.1 0-2 .9-2 2v14c0 1.1.9 2 2 2h14c1.1 0 2-.9 2-2V5c0-1.1-.9-2-2-2zM9 17H7v-7h2v7zm4 0h-2V7h2v10zm4 0h-2v-4h2v4z\"/>\n",
              "    </g>\n",
              "</svg>\n",
              "  </button>\n",
              "\n",
              "<style>\n",
              "  .colab-df-quickchart {\n",
              "      --bg-color: #E8F0FE;\n",
              "      --fill-color: #1967D2;\n",
              "      --hover-bg-color: #E2EBFA;\n",
              "      --hover-fill-color: #174EA6;\n",
              "      --disabled-fill-color: #AAA;\n",
              "      --disabled-bg-color: #DDD;\n",
              "  }\n",
              "\n",
              "  [theme=dark] .colab-df-quickchart {\n",
              "      --bg-color: #3B4455;\n",
              "      --fill-color: #D2E3FC;\n",
              "      --hover-bg-color: #434B5C;\n",
              "      --hover-fill-color: #FFFFFF;\n",
              "      --disabled-bg-color: #3B4455;\n",
              "      --disabled-fill-color: #666;\n",
              "  }\n",
              "\n",
              "  .colab-df-quickchart {\n",
              "    background-color: var(--bg-color);\n",
              "    border: none;\n",
              "    border-radius: 50%;\n",
              "    cursor: pointer;\n",
              "    display: none;\n",
              "    fill: var(--fill-color);\n",
              "    height: 32px;\n",
              "    padding: 0;\n",
              "    width: 32px;\n",
              "  }\n",
              "\n",
              "  .colab-df-quickchart:hover {\n",
              "    background-color: var(--hover-bg-color);\n",
              "    box-shadow: 0 1px 2px rgba(60, 64, 67, 0.3), 0 1px 3px 1px rgba(60, 64, 67, 0.15);\n",
              "    fill: var(--button-hover-fill-color);\n",
              "  }\n",
              "\n",
              "  .colab-df-quickchart-complete:disabled,\n",
              "  .colab-df-quickchart-complete:disabled:hover {\n",
              "    background-color: var(--disabled-bg-color);\n",
              "    fill: var(--disabled-fill-color);\n",
              "    box-shadow: none;\n",
              "  }\n",
              "\n",
              "  .colab-df-spinner {\n",
              "    border: 2px solid var(--fill-color);\n",
              "    border-color: transparent;\n",
              "    border-bottom-color: var(--fill-color);\n",
              "    animation:\n",
              "      spin 1s steps(1) infinite;\n",
              "  }\n",
              "\n",
              "  @keyframes spin {\n",
              "    0% {\n",
              "      border-color: transparent;\n",
              "      border-bottom-color: var(--fill-color);\n",
              "      border-left-color: var(--fill-color);\n",
              "    }\n",
              "    20% {\n",
              "      border-color: transparent;\n",
              "      border-left-color: var(--fill-color);\n",
              "      border-top-color: var(--fill-color);\n",
              "    }\n",
              "    30% {\n",
              "      border-color: transparent;\n",
              "      border-left-color: var(--fill-color);\n",
              "      border-top-color: var(--fill-color);\n",
              "      border-right-color: var(--fill-color);\n",
              "    }\n",
              "    40% {\n",
              "      border-color: transparent;\n",
              "      border-right-color: var(--fill-color);\n",
              "      border-top-color: var(--fill-color);\n",
              "    }\n",
              "    60% {\n",
              "      border-color: transparent;\n",
              "      border-right-color: var(--fill-color);\n",
              "    }\n",
              "    80% {\n",
              "      border-color: transparent;\n",
              "      border-right-color: var(--fill-color);\n",
              "      border-bottom-color: var(--fill-color);\n",
              "    }\n",
              "    90% {\n",
              "      border-color: transparent;\n",
              "      border-bottom-color: var(--fill-color);\n",
              "    }\n",
              "  }\n",
              "</style>\n",
              "\n",
              "  <script>\n",
              "    async function quickchart(key) {\n",
              "      const quickchartButtonEl =\n",
              "        document.querySelector('#' + key + ' button');\n",
              "      quickchartButtonEl.disabled = true;  // To prevent multiple clicks.\n",
              "      quickchartButtonEl.classList.add('colab-df-spinner');\n",
              "      try {\n",
              "        const charts = await google.colab.kernel.invokeFunction(\n",
              "            'suggestCharts', [key], {});\n",
              "      } catch (error) {\n",
              "        console.error('Error during call to suggestCharts:', error);\n",
              "      }\n",
              "      quickchartButtonEl.classList.remove('colab-df-spinner');\n",
              "      quickchartButtonEl.classList.add('colab-df-quickchart-complete');\n",
              "    }\n",
              "    (() => {\n",
              "      let quickchartButtonEl =\n",
              "        document.querySelector('#df-f989c0fc-3d10-4d4d-9395-b198035ee839 button');\n",
              "      quickchartButtonEl.style.display =\n",
              "        google.colab.kernel.accessAllowed ? 'block' : 'none';\n",
              "    })();\n",
              "  </script>\n",
              "</div>\n",
              "    </div>\n",
              "  </div>\n"
            ],
            "application/vnd.google.colaboratory.intrinsic+json": {
              "type": "dataframe",
              "variable_name": "mushrooms"
            }
          },
          "metadata": {},
          "execution_count": 18
        }
      ]
    },
    {
      "cell_type": "code",
      "source": [
        "from sklearn.metrics import accuracy_score\n",
        "from sklearn.preprocessing import LabelEncoder\n",
        "from sklearn.model_selection import train_test_split\n",
        "le = LabelEncoder()\n",
        "for i in mushrooms.columns:\n",
        "  mushrooms[i] = le.fit_transform(mushrooms[i])\n",
        "train, test = train_test_split(mushrooms, test_size = 0.5)\n",
        "\n",
        "y_train = train['p']\n",
        "y_test = test['p']\n",
        "X_train = train.drop('p', axis = 1)\n",
        "X_test= test.drop('p', axis = 1)"
      ],
      "metadata": {
        "id": "5rBOYc8y788j"
      },
      "execution_count": null,
      "outputs": []
    },
    {
      "cell_type": "code",
      "source": [
        "dt = DecisionTree(feature_types = ['categorical']*22,\n",
        "                  max_depth = 300,\n",
        "                  min_samples_split = 20,\n",
        "                  task = 'classification')\n",
        "dt.fit(X_train.values, y_train.values)\n",
        "print(f\"accuracy_score_on_train: {accuracy_score(dt.predict(X_train.values), y_train.values)}\")\n",
        "print(f\"accuracy_score_on_test: {accuracy_score(dt.predict(X_test.values), y_test.values)}\")"
      ],
      "metadata": {
        "colab": {
          "base_uri": "https://localhost:8080/"
        },
        "id": "htxILDhqCfZe",
        "outputId": "3ab1d452-bb16-4186-a459-22b0de4d1b26"
      },
      "execution_count": null,
      "outputs": [
        {
          "output_type": "stream",
          "name": "stdout",
          "text": [
            "accuracy_score_on_train: 1.0\n",
            "accuracy_score_on_test: 1.0\n"
          ]
        }
      ]
    },
    {
      "cell_type": "markdown",
      "metadata": {
        "id": "trCb3_sFw59r"
      },
      "source": [
        "## Часть 3: Бэггинг и случайный лес (4 балла)"
      ]
    },
    {
      "cell_type": "markdown",
      "metadata": {
        "id": "6C4WHHP2w59r"
      },
      "source": [
        "В данной части мы будем работать [с задачей предсказания диабета у пациента](https://www.kaggle.com/uciml/pima-indians-diabetes-database/data). Посмотрим на работу бэггинга над решающими деревьями и случайного леса, сравним их работу."
      ]
    },
    {
      "cell_type": "code",
      "execution_count": null,
      "metadata": {
        "id": "g0qtd9DOw59r"
      },
      "outputs": [],
      "source": [
        "from sklearn.ensemble import BaggingClassifier, RandomForestClassifier\n",
        "from sklearn.metrics import accuracy_score, precision_score, recall_score, roc_auc_score\n",
        "from sklearn.model_selection import train_test_split\n",
        "from sklearn.tree import DecisionTreeClassifier"
      ]
    },
    {
      "cell_type": "code",
      "execution_count": null,
      "metadata": {
        "scrolled": true,
        "id": "uoAiJPA4w59r",
        "colab": {
          "base_uri": "https://localhost:8080/",
          "height": 224
        },
        "outputId": "faa26139-4d81-4c56-d264-0d1684125680"
      },
      "outputs": [
        {
          "output_type": "stream",
          "name": "stdout",
          "text": [
            "Dataset shape: (768, 9)\n"
          ]
        },
        {
          "output_type": "execute_result",
          "data": {
            "text/plain": [
              "   Pregnancies  Glucose  BloodPressure  SkinThickness  Insulin   BMI  \\\n",
              "0            6      148             72             35        0  33.6   \n",
              "1            1       85             66             29        0  26.6   \n",
              "2            8      183             64              0        0  23.3   \n",
              "3            1       89             66             23       94  28.1   \n",
              "4            0      137             40             35      168  43.1   \n",
              "\n",
              "   DiabetesPedigreeFunction  Age  Outcome  \n",
              "0                     0.627   50        1  \n",
              "1                     0.351   31        0  \n",
              "2                     0.672   32        1  \n",
              "3                     0.167   21        0  \n",
              "4                     2.288   33        1  "
            ],
            "text/html": [
              "\n",
              "  <div id=\"df-8886dca7-daae-4b18-868c-784e953c68da\" class=\"colab-df-container\">\n",
              "    <div>\n",
              "<style scoped>\n",
              "    .dataframe tbody tr th:only-of-type {\n",
              "        vertical-align: middle;\n",
              "    }\n",
              "\n",
              "    .dataframe tbody tr th {\n",
              "        vertical-align: top;\n",
              "    }\n",
              "\n",
              "    .dataframe thead th {\n",
              "        text-align: right;\n",
              "    }\n",
              "</style>\n",
              "<table border=\"1\" class=\"dataframe\">\n",
              "  <thead>\n",
              "    <tr style=\"text-align: right;\">\n",
              "      <th></th>\n",
              "      <th>Pregnancies</th>\n",
              "      <th>Glucose</th>\n",
              "      <th>BloodPressure</th>\n",
              "      <th>SkinThickness</th>\n",
              "      <th>Insulin</th>\n",
              "      <th>BMI</th>\n",
              "      <th>DiabetesPedigreeFunction</th>\n",
              "      <th>Age</th>\n",
              "      <th>Outcome</th>\n",
              "    </tr>\n",
              "  </thead>\n",
              "  <tbody>\n",
              "    <tr>\n",
              "      <th>0</th>\n",
              "      <td>6</td>\n",
              "      <td>148</td>\n",
              "      <td>72</td>\n",
              "      <td>35</td>\n",
              "      <td>0</td>\n",
              "      <td>33.6</td>\n",
              "      <td>0.627</td>\n",
              "      <td>50</td>\n",
              "      <td>1</td>\n",
              "    </tr>\n",
              "    <tr>\n",
              "      <th>1</th>\n",
              "      <td>1</td>\n",
              "      <td>85</td>\n",
              "      <td>66</td>\n",
              "      <td>29</td>\n",
              "      <td>0</td>\n",
              "      <td>26.6</td>\n",
              "      <td>0.351</td>\n",
              "      <td>31</td>\n",
              "      <td>0</td>\n",
              "    </tr>\n",
              "    <tr>\n",
              "      <th>2</th>\n",
              "      <td>8</td>\n",
              "      <td>183</td>\n",
              "      <td>64</td>\n",
              "      <td>0</td>\n",
              "      <td>0</td>\n",
              "      <td>23.3</td>\n",
              "      <td>0.672</td>\n",
              "      <td>32</td>\n",
              "      <td>1</td>\n",
              "    </tr>\n",
              "    <tr>\n",
              "      <th>3</th>\n",
              "      <td>1</td>\n",
              "      <td>89</td>\n",
              "      <td>66</td>\n",
              "      <td>23</td>\n",
              "      <td>94</td>\n",
              "      <td>28.1</td>\n",
              "      <td>0.167</td>\n",
              "      <td>21</td>\n",
              "      <td>0</td>\n",
              "    </tr>\n",
              "    <tr>\n",
              "      <th>4</th>\n",
              "      <td>0</td>\n",
              "      <td>137</td>\n",
              "      <td>40</td>\n",
              "      <td>35</td>\n",
              "      <td>168</td>\n",
              "      <td>43.1</td>\n",
              "      <td>2.288</td>\n",
              "      <td>33</td>\n",
              "      <td>1</td>\n",
              "    </tr>\n",
              "  </tbody>\n",
              "</table>\n",
              "</div>\n",
              "    <div class=\"colab-df-buttons\">\n",
              "\n",
              "  <div class=\"colab-df-container\">\n",
              "    <button class=\"colab-df-convert\" onclick=\"convertToInteractive('df-8886dca7-daae-4b18-868c-784e953c68da')\"\n",
              "            title=\"Convert this dataframe to an interactive table.\"\n",
              "            style=\"display:none;\">\n",
              "\n",
              "  <svg xmlns=\"http://www.w3.org/2000/svg\" height=\"24px\" viewBox=\"0 -960 960 960\">\n",
              "    <path d=\"M120-120v-720h720v720H120Zm60-500h600v-160H180v160Zm220 220h160v-160H400v160Zm0 220h160v-160H400v160ZM180-400h160v-160H180v160Zm440 0h160v-160H620v160ZM180-180h160v-160H180v160Zm440 0h160v-160H620v160Z\"/>\n",
              "  </svg>\n",
              "    </button>\n",
              "\n",
              "  <style>\n",
              "    .colab-df-container {\n",
              "      display:flex;\n",
              "      gap: 12px;\n",
              "    }\n",
              "\n",
              "    .colab-df-convert {\n",
              "      background-color: #E8F0FE;\n",
              "      border: none;\n",
              "      border-radius: 50%;\n",
              "      cursor: pointer;\n",
              "      display: none;\n",
              "      fill: #1967D2;\n",
              "      height: 32px;\n",
              "      padding: 0 0 0 0;\n",
              "      width: 32px;\n",
              "    }\n",
              "\n",
              "    .colab-df-convert:hover {\n",
              "      background-color: #E2EBFA;\n",
              "      box-shadow: 0px 1px 2px rgba(60, 64, 67, 0.3), 0px 1px 3px 1px rgba(60, 64, 67, 0.15);\n",
              "      fill: #174EA6;\n",
              "    }\n",
              "\n",
              "    .colab-df-buttons div {\n",
              "      margin-bottom: 4px;\n",
              "    }\n",
              "\n",
              "    [theme=dark] .colab-df-convert {\n",
              "      background-color: #3B4455;\n",
              "      fill: #D2E3FC;\n",
              "    }\n",
              "\n",
              "    [theme=dark] .colab-df-convert:hover {\n",
              "      background-color: #434B5C;\n",
              "      box-shadow: 0px 1px 3px 1px rgba(0, 0, 0, 0.15);\n",
              "      filter: drop-shadow(0px 1px 2px rgba(0, 0, 0, 0.3));\n",
              "      fill: #FFFFFF;\n",
              "    }\n",
              "  </style>\n",
              "\n",
              "    <script>\n",
              "      const buttonEl =\n",
              "        document.querySelector('#df-8886dca7-daae-4b18-868c-784e953c68da button.colab-df-convert');\n",
              "      buttonEl.style.display =\n",
              "        google.colab.kernel.accessAllowed ? 'block' : 'none';\n",
              "\n",
              "      async function convertToInteractive(key) {\n",
              "        const element = document.querySelector('#df-8886dca7-daae-4b18-868c-784e953c68da');\n",
              "        const dataTable =\n",
              "          await google.colab.kernel.invokeFunction('convertToInteractive',\n",
              "                                                    [key], {});\n",
              "        if (!dataTable) return;\n",
              "\n",
              "        const docLinkHtml = 'Like what you see? Visit the ' +\n",
              "          '<a target=\"_blank\" href=https://colab.research.google.com/notebooks/data_table.ipynb>data table notebook</a>'\n",
              "          + ' to learn more about interactive tables.';\n",
              "        element.innerHTML = '';\n",
              "        dataTable['output_type'] = 'display_data';\n",
              "        await google.colab.output.renderOutput(dataTable, element);\n",
              "        const docLink = document.createElement('div');\n",
              "        docLink.innerHTML = docLinkHtml;\n",
              "        element.appendChild(docLink);\n",
              "      }\n",
              "    </script>\n",
              "  </div>\n",
              "\n",
              "\n",
              "<div id=\"df-c703e481-175b-4dfd-8925-34aab5d777b5\">\n",
              "  <button class=\"colab-df-quickchart\" onclick=\"quickchart('df-c703e481-175b-4dfd-8925-34aab5d777b5')\"\n",
              "            title=\"Suggest charts\"\n",
              "            style=\"display:none;\">\n",
              "\n",
              "<svg xmlns=\"http://www.w3.org/2000/svg\" height=\"24px\"viewBox=\"0 0 24 24\"\n",
              "     width=\"24px\">\n",
              "    <g>\n",
              "        <path d=\"M19 3H5c-1.1 0-2 .9-2 2v14c0 1.1.9 2 2 2h14c1.1 0 2-.9 2-2V5c0-1.1-.9-2-2-2zM9 17H7v-7h2v7zm4 0h-2V7h2v10zm4 0h-2v-4h2v4z\"/>\n",
              "    </g>\n",
              "</svg>\n",
              "  </button>\n",
              "\n",
              "<style>\n",
              "  .colab-df-quickchart {\n",
              "      --bg-color: #E8F0FE;\n",
              "      --fill-color: #1967D2;\n",
              "      --hover-bg-color: #E2EBFA;\n",
              "      --hover-fill-color: #174EA6;\n",
              "      --disabled-fill-color: #AAA;\n",
              "      --disabled-bg-color: #DDD;\n",
              "  }\n",
              "\n",
              "  [theme=dark] .colab-df-quickchart {\n",
              "      --bg-color: #3B4455;\n",
              "      --fill-color: #D2E3FC;\n",
              "      --hover-bg-color: #434B5C;\n",
              "      --hover-fill-color: #FFFFFF;\n",
              "      --disabled-bg-color: #3B4455;\n",
              "      --disabled-fill-color: #666;\n",
              "  }\n",
              "\n",
              "  .colab-df-quickchart {\n",
              "    background-color: var(--bg-color);\n",
              "    border: none;\n",
              "    border-radius: 50%;\n",
              "    cursor: pointer;\n",
              "    display: none;\n",
              "    fill: var(--fill-color);\n",
              "    height: 32px;\n",
              "    padding: 0;\n",
              "    width: 32px;\n",
              "  }\n",
              "\n",
              "  .colab-df-quickchart:hover {\n",
              "    background-color: var(--hover-bg-color);\n",
              "    box-shadow: 0 1px 2px rgba(60, 64, 67, 0.3), 0 1px 3px 1px rgba(60, 64, 67, 0.15);\n",
              "    fill: var(--button-hover-fill-color);\n",
              "  }\n",
              "\n",
              "  .colab-df-quickchart-complete:disabled,\n",
              "  .colab-df-quickchart-complete:disabled:hover {\n",
              "    background-color: var(--disabled-bg-color);\n",
              "    fill: var(--disabled-fill-color);\n",
              "    box-shadow: none;\n",
              "  }\n",
              "\n",
              "  .colab-df-spinner {\n",
              "    border: 2px solid var(--fill-color);\n",
              "    border-color: transparent;\n",
              "    border-bottom-color: var(--fill-color);\n",
              "    animation:\n",
              "      spin 1s steps(1) infinite;\n",
              "  }\n",
              "\n",
              "  @keyframes spin {\n",
              "    0% {\n",
              "      border-color: transparent;\n",
              "      border-bottom-color: var(--fill-color);\n",
              "      border-left-color: var(--fill-color);\n",
              "    }\n",
              "    20% {\n",
              "      border-color: transparent;\n",
              "      border-left-color: var(--fill-color);\n",
              "      border-top-color: var(--fill-color);\n",
              "    }\n",
              "    30% {\n",
              "      border-color: transparent;\n",
              "      border-left-color: var(--fill-color);\n",
              "      border-top-color: var(--fill-color);\n",
              "      border-right-color: var(--fill-color);\n",
              "    }\n",
              "    40% {\n",
              "      border-color: transparent;\n",
              "      border-right-color: var(--fill-color);\n",
              "      border-top-color: var(--fill-color);\n",
              "    }\n",
              "    60% {\n",
              "      border-color: transparent;\n",
              "      border-right-color: var(--fill-color);\n",
              "    }\n",
              "    80% {\n",
              "      border-color: transparent;\n",
              "      border-right-color: var(--fill-color);\n",
              "      border-bottom-color: var(--fill-color);\n",
              "    }\n",
              "    90% {\n",
              "      border-color: transparent;\n",
              "      border-bottom-color: var(--fill-color);\n",
              "    }\n",
              "  }\n",
              "</style>\n",
              "\n",
              "  <script>\n",
              "    async function quickchart(key) {\n",
              "      const quickchartButtonEl =\n",
              "        document.querySelector('#' + key + ' button');\n",
              "      quickchartButtonEl.disabled = true;  // To prevent multiple clicks.\n",
              "      quickchartButtonEl.classList.add('colab-df-spinner');\n",
              "      try {\n",
              "        const charts = await google.colab.kernel.invokeFunction(\n",
              "            'suggestCharts', [key], {});\n",
              "      } catch (error) {\n",
              "        console.error('Error during call to suggestCharts:', error);\n",
              "      }\n",
              "      quickchartButtonEl.classList.remove('colab-df-spinner');\n",
              "      quickchartButtonEl.classList.add('colab-df-quickchart-complete');\n",
              "    }\n",
              "    (() => {\n",
              "      let quickchartButtonEl =\n",
              "        document.querySelector('#df-c703e481-175b-4dfd-8925-34aab5d777b5 button');\n",
              "      quickchartButtonEl.style.display =\n",
              "        google.colab.kernel.accessAllowed ? 'block' : 'none';\n",
              "    })();\n",
              "  </script>\n",
              "</div>\n",
              "    </div>\n",
              "  </div>\n"
            ],
            "application/vnd.google.colaboratory.intrinsic+json": {
              "type": "dataframe",
              "variable_name": "data",
              "summary": "{\n  \"name\": \"data\",\n  \"rows\": 768,\n  \"fields\": [\n    {\n      \"column\": \"Pregnancies\",\n      \"properties\": {\n        \"dtype\": \"number\",\n        \"std\": 3,\n        \"min\": 0,\n        \"max\": 17,\n        \"num_unique_values\": 17,\n        \"samples\": [\n          6,\n          1,\n          3\n        ],\n        \"semantic_type\": \"\",\n        \"description\": \"\"\n      }\n    },\n    {\n      \"column\": \"Glucose\",\n      \"properties\": {\n        \"dtype\": \"number\",\n        \"std\": 31,\n        \"min\": 0,\n        \"max\": 199,\n        \"num_unique_values\": 136,\n        \"samples\": [\n          151,\n          101,\n          112\n        ],\n        \"semantic_type\": \"\",\n        \"description\": \"\"\n      }\n    },\n    {\n      \"column\": \"BloodPressure\",\n      \"properties\": {\n        \"dtype\": \"number\",\n        \"std\": 19,\n        \"min\": 0,\n        \"max\": 122,\n        \"num_unique_values\": 47,\n        \"samples\": [\n          86,\n          46,\n          85\n        ],\n        \"semantic_type\": \"\",\n        \"description\": \"\"\n      }\n    },\n    {\n      \"column\": \"SkinThickness\",\n      \"properties\": {\n        \"dtype\": \"number\",\n        \"std\": 15,\n        \"min\": 0,\n        \"max\": 99,\n        \"num_unique_values\": 51,\n        \"samples\": [\n          7,\n          12,\n          48\n        ],\n        \"semantic_type\": \"\",\n        \"description\": \"\"\n      }\n    },\n    {\n      \"column\": \"Insulin\",\n      \"properties\": {\n        \"dtype\": \"number\",\n        \"std\": 115,\n        \"min\": 0,\n        \"max\": 846,\n        \"num_unique_values\": 186,\n        \"samples\": [\n          52,\n          41,\n          183\n        ],\n        \"semantic_type\": \"\",\n        \"description\": \"\"\n      }\n    },\n    {\n      \"column\": \"BMI\",\n      \"properties\": {\n        \"dtype\": \"number\",\n        \"std\": 7.884160320375446,\n        \"min\": 0.0,\n        \"max\": 67.1,\n        \"num_unique_values\": 248,\n        \"samples\": [\n          19.9,\n          31.0,\n          38.1\n        ],\n        \"semantic_type\": \"\",\n        \"description\": \"\"\n      }\n    },\n    {\n      \"column\": \"DiabetesPedigreeFunction\",\n      \"properties\": {\n        \"dtype\": \"number\",\n        \"std\": 0.3313285950127749,\n        \"min\": 0.078,\n        \"max\": 2.42,\n        \"num_unique_values\": 517,\n        \"samples\": [\n          1.731,\n          0.426,\n          0.138\n        ],\n        \"semantic_type\": \"\",\n        \"description\": \"\"\n      }\n    },\n    {\n      \"column\": \"Age\",\n      \"properties\": {\n        \"dtype\": \"number\",\n        \"std\": 11,\n        \"min\": 21,\n        \"max\": 81,\n        \"num_unique_values\": 52,\n        \"samples\": [\n          60,\n          47,\n          72\n        ],\n        \"semantic_type\": \"\",\n        \"description\": \"\"\n      }\n    },\n    {\n      \"column\": \"Outcome\",\n      \"properties\": {\n        \"dtype\": \"number\",\n        \"std\": 0,\n        \"min\": 0,\n        \"max\": 1,\n        \"num_unique_values\": 2,\n        \"samples\": [\n          0,\n          1\n        ],\n        \"semantic_type\": \"\",\n        \"description\": \"\"\n      }\n    }\n  ]\n}"
            }
          },
          "metadata": {},
          "execution_count": 22
        }
      ],
      "source": [
        "data = pd.read_csv('diabetes.csv')\n",
        "print(f\"Dataset shape: {data.shape}\")\n",
        "data.head()"
      ]
    },
    {
      "cell_type": "markdown",
      "metadata": {
        "id": "_0C10QAzw59r"
      },
      "source": [
        "Посмотрим на распределение целевой переменной"
      ]
    },
    {
      "cell_type": "code",
      "execution_count": null,
      "metadata": {
        "id": "8p3itDqZw59r",
        "colab": {
          "base_uri": "https://localhost:8080/",
          "height": 430
        },
        "outputId": "411ae3a6-00df-42c7-f73a-d45afbac7791"
      },
      "outputs": [
        {
          "output_type": "display_data",
          "data": {
            "text/plain": [
              "<Figure size 640x480 with 1 Axes>"
            ],
            "image/png": "[encoded data removed]"
          },
          "metadata": {}
        }
      ],
      "source": [
        "data['Outcome'].hist()\n",
        "plt.show()"
      ]
    },
    {
      "cell_type": "markdown",
      "metadata": {
        "id": "7LvJGJWNw59r"
      },
      "source": [
        "**Задание 3.1 (0.5 балла)** Разделите данные на признаки и целевую переменную. Разбейте датасет на обучающую и тестовую части в отношении 7:3. Затем разделите обучающую выборку на обучающую-обучающую и обучающую-валидационную в соотношении 7:3 (то есть в итоге должно получиться три выборки: обучающая-обучающая (0.49 от исходного датасета), обучающая-валидационная (0.21 от исходного датасета) и тестовая (0.3 от исходного датасета)."
      ]
    },
    {
      "cell_type": "code",
      "execution_count": null,
      "metadata": {
        "id": "QmkWMYCDw59r"
      },
      "outputs": [],
      "source": [
        "np.random.seed(90)\n",
        "\n",
        "TRAIN, test = train_test_split(data, test_size = 0.3, random_state=0, shuffle=True)\n",
        "train, validation = train_test_split(TRAIN, test_size = 0.3, random_state=0, shuffle=True)\n",
        "\n",
        "y_train = train['Outcome']\n",
        "y_validation = validation['Outcome']\n",
        "y_test = test['Outcome']\n",
        "y_TRAIN = TRAIN['Outcome']\n",
        "\n",
        "X_train = train.drop('Outcome', axis = 1)\n",
        "X_TRAIN = TRAIN.drop('Outcome', axis = 1)\n",
        "X_validation = validation.drop('Outcome', axis = 1)\n",
        "X_test = test.drop('Outcome', axis = 1)"
      ]
    },
    {
      "cell_type": "markdown",
      "metadata": {
        "id": "y9Btm1Www59r"
      },
      "source": [
        "**Задание 3.2 (1 балл)** На обучающей-валидационной выборке подберите оптимальные значения гиперпараметров `max_depth` и `min_samples_leaf` для `DecisionTreeClassifier`. Для этого:\n",
        "1. Создайте списки с возможными значениями для перебора.\n",
        "2. Для каждой пары значений обучите дерево на обучающей-обучающей выборке и определите качество на обучающей-валидационной выборке. В качестве критерия будем использовать `f1-меру`.\n",
        "3. Выберите ту пару значений, которая даёт наилучшее качество на обучающей-валидационной выборке.\n",
        "\n",
        "\n",
        "Обучите решающее дерево с подобранными гиперпараметрами на **полной обучающей** выборке. Оцените качество классификации на тестовой выборке по метрикам `accuracy`, `precision` и `recall`, `auc_roc`."
      ]
    },
    {
      "cell_type": "code",
      "execution_count": null,
      "metadata": {
        "id": "gkquyAzvw59r",
        "colab": {
          "base_uri": "https://localhost:8080/"
        },
        "outputId": "4d3d7c8d-a178-42d9-f44f-6778ac94b125"
      },
      "outputs": [
        {
          "output_type": "stream",
          "name": "stdout",
          "text": [
            "f1_score_on_train: 0.5892857142857142\n",
            "f1_score_on_validation: 0.5894736842105263\n",
            "f1_score_on_train: 0.5892857142857142\n",
            "f1_score_on_validation: 0.5894736842105263\n",
            "f1_score_on_train: 0.5892857142857142\n",
            "f1_score_on_validation: 0.5894736842105263\n",
            "f1_score_on_train: 0.5892857142857142\n",
            "f1_score_on_validation: 0.5894736842105263\n",
            "f1_score_on_train: 0.5892857142857142\n",
            "f1_score_on_validation: 0.5894736842105263\n",
            "f1_score_on_train: 0.5892857142857142\n",
            "f1_score_on_validation: 0.5894736842105263\n",
            "f1_score_on_train: 0.5892857142857142\n",
            "f1_score_on_validation: 0.5894736842105263\n",
            "f1_score_on_train: 0.5892857142857142\n",
            "f1_score_on_validation: 0.5894736842105263\n",
            "f1_score_on_train: 0.5756097560975609\n",
            "f1_score_on_validation: 0.5057471264367817\n",
            "f1_score_on_train: 0.5756097560975609\n",
            "f1_score_on_validation: 0.5057471264367817\n",
            "f1_score_on_train: 0.580952380952381\n",
            "f1_score_on_validation: 0.5168539325842697\n",
            "f1_score_on_train: 0.5714285714285715\n",
            "f1_score_on_validation: 0.5652173913043479\n",
            "f1_score_on_train: 0.5490196078431372\n",
            "f1_score_on_validation: 0.5777777777777777\n",
            "f1_score_on_train: 0.5490196078431372\n",
            "f1_score_on_validation: 0.5777777777777777\n",
            "f1_score_on_train: 0.6959459459459459\n",
            "f1_score_on_validation: 0.6356589147286821\n",
            "f1_score_on_train: 0.6959459459459459\n",
            "f1_score_on_validation: 0.6356589147286821\n",
            "f1_score_on_train: 0.7885304659498207\n",
            "f1_score_on_validation: 0.6101694915254238\n",
            "f1_score_on_train: 0.7801418439716311\n",
            "f1_score_on_validation: 0.6153846153846154\n",
            "f1_score_on_train: 0.7681660899653979\n",
            "f1_score_on_validation: 0.5614035087719299\n",
            "f1_score_on_train: 0.7463768115942029\n",
            "f1_score_on_validation: 0.5913043478260869\n",
            "f1_score_on_train: 0.7063197026022305\n",
            "f1_score_on_validation: 0.6608695652173913\n",
            "f1_score_on_train: 0.7063197026022305\n",
            "f1_score_on_validation: 0.6608695652173913\n",
            "f1_score_on_train: 0.6923076923076922\n",
            "f1_score_on_validation: 0.6422018348623854\n",
            "f1_score_on_train: 0.6959459459459459\n",
            "f1_score_on_validation: 0.6356589147286821\n",
            "f1_score_on_train: 0.9003690036900369\n",
            "f1_score_on_validation: 0.6017699115044246\n",
            "f1_score_on_train: 0.8421052631578948\n",
            "f1_score_on_validation: 0.5225225225225225\n",
            "f1_score_on_train: 0.7611336032388664\n",
            "f1_score_on_validation: 0.5098039215686274\n",
            "f1_score_on_train: 0.7601476014760147\n",
            "f1_score_on_validation: 0.584070796460177\n",
            "f1_score_on_train: 0.6960000000000001\n",
            "f1_score_on_validation: 0.6111111111111112\n",
            "f1_score_on_train: 0.7063197026022305\n",
            "f1_score_on_validation: 0.6608695652173913\n",
            "f1_score_on_train: 0.6923076923076922\n",
            "f1_score_on_validation: 0.6422018348623854\n",
            "f1_score_on_train: 0.6959459459459459\n",
            "f1_score_on_validation: 0.6356589147286821\n",
            "f1_score_on_train: 0.9850746268656716\n",
            "f1_score_on_validation: 0.5686274509803921\n",
            "f1_score_on_train: 0.8830188679245283\n",
            "f1_score_on_validation: 0.49090909090909085\n",
            "f1_score_on_train: 0.8091603053435115\n",
            "f1_score_on_validation: 0.5384615384615384\n",
            "f1_score_on_train: 0.7509578544061304\n",
            "f1_score_on_validation: 0.5818181818181819\n",
            "f1_score_on_train: 0.6960000000000001\n",
            "f1_score_on_validation: 0.6111111111111112\n",
            "f1_score_on_train: 0.7063197026022305\n",
            "f1_score_on_validation: 0.6608695652173913\n",
            "f1_score_on_train: 0.6923076923076922\n",
            "f1_score_on_validation: 0.6422018348623854\n",
            "f1_score_on_train: 0.6959459459459459\n",
            "f1_score_on_validation: 0.6356589147286821\n",
            "f1_score_on_train: 1.0\n",
            "f1_score_on_validation: 0.5981308411214952\n",
            "f1_score_on_train: 0.8913857677902621\n",
            "f1_score_on_validation: 0.5272727272727272\n",
            "f1_score_on_train: 0.8091603053435115\n",
            "f1_score_on_validation: 0.5384615384615384\n",
            "f1_score_on_train: 0.7509578544061304\n",
            "f1_score_on_validation: 0.5818181818181819\n",
            "f1_score_on_train: 0.6960000000000001\n",
            "f1_score_on_validation: 0.6111111111111112\n",
            "f1_score_on_train: 0.7063197026022305\n",
            "f1_score_on_validation: 0.6608695652173913\n",
            "f1_score_on_train: 0.6923076923076922\n",
            "f1_score_on_validation: 0.6422018348623854\n",
            "f1_score_on_train: 0.6959459459459459\n",
            "f1_score_on_validation: 0.6356589147286821\n",
            "f1_score_on_train: 1.0\n",
            "f1_score_on_validation: 0.5981308411214952\n",
            "f1_score_on_train: 0.8913857677902621\n",
            "f1_score_on_validation: 0.5272727272727272\n",
            "f1_score_on_train: 0.8091603053435115\n",
            "f1_score_on_validation: 0.5384615384615384\n",
            "f1_score_on_train: 0.7509578544061304\n",
            "f1_score_on_validation: 0.5818181818181819\n",
            "f1_score_on_train: 0.6960000000000001\n",
            "f1_score_on_validation: 0.6111111111111112\n",
            "f1_score_on_train: 0.7063197026022305\n",
            "f1_score_on_validation: 0.6608695652173913\n",
            "f1_score_on_train: 0.6923076923076922\n",
            "f1_score_on_validation: 0.6422018348623854\n",
            "f1_score_on_train: 0.6959459459459459\n",
            "f1_score_on_validation: 0.6356589147286821\n",
            "f1_score_on_train: 1.0\n",
            "f1_score_on_validation: 0.5981308411214952\n",
            "f1_score_on_train: 0.8913857677902621\n",
            "f1_score_on_validation: 0.5272727272727272\n",
            "f1_score_on_train: 0.8091603053435115\n",
            "f1_score_on_validation: 0.5384615384615384\n",
            "f1_score_on_train: 0.7509578544061304\n",
            "f1_score_on_validation: 0.5818181818181819\n",
            "f1_score_on_train: 0.6960000000000001\n",
            "f1_score_on_validation: 0.6111111111111112\n",
            "f1_score_on_train: 0.7063197026022305\n",
            "f1_score_on_validation: 0.6608695652173913\n",
            "f1_score_on_train: 0.6923076923076922\n",
            "f1_score_on_validation: 0.6422018348623854\n",
            "f1_score_on_train: 0.6959459459459459\n",
            "f1_score_on_validation: 0.6356589147286821\n",
            "f1_score_on_train: 1.0\n",
            "f1_score_on_validation: 0.5981308411214952\n",
            "f1_score_on_train: 0.8913857677902621\n",
            "f1_score_on_validation: 0.5272727272727272\n",
            "f1_score_on_train: 0.8091603053435115\n",
            "f1_score_on_validation: 0.5384615384615384\n",
            "f1_score_on_train: 0.7509578544061304\n",
            "f1_score_on_validation: 0.5818181818181819\n",
            "f1_score_on_train: 0.6960000000000001\n",
            "f1_score_on_validation: 0.6111111111111112\n",
            "f1_score_on_train: 0.7063197026022305\n",
            "f1_score_on_validation: 0.6608695652173913\n",
            "f1_score_on_train: 0.6923076923076922\n",
            "f1_score_on_validation: 0.6422018348623854\n",
            "f1_score_on_train: 0.6959459459459459\n",
            "f1_score_on_validation: 0.6356589147286821\n"
          ]
        }
      ],
      "source": [
        "from sklearn.metrics import f1_score\n",
        "max_depth = [1, 3, 5, 7, 10, 15, 20, 25, 30]\n",
        "min_samples_leaf = [1, 3, 6, 10, 15, 20, 30, 40]\n",
        "\n",
        "for md in max_depth:\n",
        "  for msl in min_samples_leaf:\n",
        "    dt = DecisionTreeClassifier(max_depth = md, min_samples_leaf = msl, random_state=1754)\n",
        "    dt.fit(X_train, y_train)\n",
        "    print(f\"f1_score_on_train: {f1_score(dt.predict(X_train), y_train)}\")\n",
        "    print(f\"f1_score_on_validation: {f1_score(dt.predict(X_validation), y_validation)}\")"
      ]
    },
    {
      "cell_type": "code",
      "source": [
        "dt = DecisionTreeClassifier(max_depth = 10, min_samples_leaf = 15, random_state=1754)\n",
        "dt.fit(X_TRAIN, y_TRAIN)\n",
        "\n",
        "print(f\"f1_score_on_test: {f1_score(dt.predict(X_test), y_test)}\")\n",
        "print(f\"accuracy_score_on_test: {accuracy_score(dt.predict(X_test), y_test)}\")\n",
        "print(f\"precision_score_on_test: {precision_score(dt.predict(X_test), y_test)}\")\n",
        "print(f\"recall_score_on_test: {recall_score(dt.predict(X_test), y_test)}\")\n",
        "print(f\"auc_roc_score_on_test: {roc_auc_score(dt.predict(X_test), y_test)}\")"
      ],
      "metadata": {
        "colab": {
          "base_uri": "https://localhost:8080/"
        },
        "id": "SdreaWXmsbS7",
        "outputId": "7fa84d40-40a0-4733-c46d-0a75d8567846"
      },
      "execution_count": null,
      "outputs": [
        {
          "output_type": "stream",
          "name": "stdout",
          "text": [
            "f1_score_on_test: 0.556390977443609\n",
            "accuracy_score_on_test: 0.7445887445887446\n",
            "precision_score_on_test: 0.5\n",
            "recall_score_on_test: 0.6271186440677966\n",
            "auc_roc_score_on_test: 0.7060011824990147\n"
          ]
        }
      ]
    },
    {
      "cell_type": "markdown",
      "metadata": {
        "id": "xEJk61gjw59t"
      },
      "source": [
        "**Задание 3.3 (0.5 балла)** Обучите [`BaggingClassifier`](https://scikit-learn.org/stable/modules/generated/sklearn.ensemble.BaggingClassifier.html) на 50 деревьях на **полной обучающей** выборке. Оцените качество классификации на тестовой выборке по тем же метрикам."
      ]
    },
    {
      "cell_type": "code",
      "execution_count": null,
      "metadata": {
        "id": "2nHgCP_Bw59t",
        "colab": {
          "base_uri": "https://localhost:8080/"
        },
        "outputId": "48194cff-e5ad-4868-a908-d234bd36aa1d"
      },
      "outputs": [
        {
          "output_type": "stream",
          "name": "stdout",
          "text": [
            "f1_score_on_test: 0.5846153846153848\n",
            "accuracy_score_on_test: 0.7662337662337663\n",
            "precision_score_on_test: 0.5135135135135135\n",
            "recall_score_on_test: 0.6785714285714286\n",
            "auc_roc_score_on_test: 0.7364285714285714\n"
          ]
        }
      ],
      "source": [
        "from sklearn.ensemble import BaggingClassifier\n",
        "\n",
        "bag = BaggingClassifier(dt, n_estimators=50, n_jobs=4, random_state=1754)\n",
        "bag.fit(X_TRAIN, y_TRAIN)\n",
        "\n",
        "print(f\"f1_score_on_test: {f1_score(bag.predict(X_test), y_test)}\")\n",
        "print(f\"accuracy_score_on_test: {accuracy_score(bag.predict(X_test), y_test)}\")\n",
        "print(f\"precision_score_on_test: {precision_score(bag.predict(X_test), y_test)}\")\n",
        "print(f\"recall_score_on_test: {recall_score(bag.predict(X_test), y_test)}\")\n",
        "print(f\"auc_roc_score_on_test: {roc_auc_score(bag.predict(X_test), y_test)}\")"
      ]
    },
    {
      "cell_type": "markdown",
      "metadata": {
        "id": "uiwsmK1Ow59u"
      },
      "source": [
        "**Задание 3.4 (1 балл)** Выполните кросс-валидацию на полной обучающей выборке и подберите оптимальные значения гиперпараметров `max_depth` и `min_samples_split` для `Random Forest` с 50 деревьями. Для этого:\n",
        "\n",
        "1. Создайте списки с возможными значениями для перебора.\n",
        "2. Для каждой пары значений проведите кросс-валидацию на полной обучающей выборке. Количество разбиений выберите на ваш вкус. В качестве критерия будем использовать `f1-меру`. Усредните значение критерия по всем прогонам кросс-валидации.\n",
        "3. Выберите ту пару значений, которая даёт наилучшее среднее качество.\n",
        "\n",
        "Обучите случайный лес с подобранными гиперпараметрами на **полной обучающей** выборке. Оцените качество классификации по тем же метрикам. Какая из трёх построенных моделей показала себя лучше?"
      ]
    },
    {
      "cell_type": "code",
      "execution_count": null,
      "metadata": {
        "id": "wc3Jhd-lw59u",
        "colab": {
          "base_uri": "https://localhost:8080/"
        },
        "outputId": "77931fc1-7d17-48ce-9ff7-5770aefc0ee2"
      },
      "outputs": [
        {
          "output_type": "stream",
          "name": "stdout",
          "text": [
            "f1_score_on_crossvalidation: [0.56666667 0.65671642 0.66666667 0.47761194 0.63492063]\n",
            "mean_f1_score: 0.601, std_f1_score: 0.071\n",
            "f1_score_on_crossvalidation: [0.59016393 0.67605634 0.6969697  0.47761194 0.6       ]\n",
            "mean_f1_score: 0.608, std_f1_score: 0.077\n",
            "f1_score_on_crossvalidation: [0.59016393 0.68571429 0.68656716 0.47761194 0.6       ]\n",
            "mean_f1_score: 0.608, std_f1_score: 0.077\n",
            "f1_score_on_crossvalidation: [0.58064516 0.69444444 0.68656716 0.47058824 0.62295082]\n",
            "mean_f1_score: 0.611, std_f1_score: 0.082\n",
            "f1_score_on_crossvalidation: [0.59016393 0.71428571 0.68656716 0.46376812 0.6       ]\n",
            "mean_f1_score: 0.611, std_f1_score: 0.088\n",
            "f1_score_on_crossvalidation: [0.57627119 0.71428571 0.68656716 0.46376812 0.62295082]\n",
            "mean_f1_score: 0.613, std_f1_score: 0.089\n",
            "f1_score_on_crossvalidation: [0.56666667 0.70422535 0.68656716 0.46376812 0.62295082]\n",
            "mean_f1_score: 0.609, std_f1_score: 0.087\n",
            "f1_score_on_crossvalidation: [0.50793651 0.73417722 0.64864865 0.48571429 0.66666667]\n",
            "mean_f1_score: 0.609, std_f1_score: 0.096\n",
            "f1_score_on_crossvalidation: [0.55882353 0.69230769 0.73972603 0.46376812 0.71641791]\n",
            "mean_f1_score: 0.634, std_f1_score: 0.106\n",
            "f1_score_on_crossvalidation: [0.57142857 0.7        0.65753425 0.47058824 0.70588235]\n",
            "mean_f1_score: 0.621, std_f1_score: 0.089\n",
            "f1_score_on_crossvalidation: [0.55882353 0.675      0.70422535 0.48648649 0.68656716]\n",
            "mean_f1_score: 0.622, std_f1_score: 0.085\n",
            "f1_score_on_crossvalidation: [0.59701493 0.66666667 0.64788732 0.5        0.68656716]\n",
            "mean_f1_score: 0.620, std_f1_score: 0.067\n",
            "f1_score_on_crossvalidation: [0.55882353 0.7        0.71428571 0.47887324 0.67692308]\n",
            "mean_f1_score: 0.626, std_f1_score: 0.092\n",
            "f1_score_on_crossvalidation: [0.57575758 0.69135802 0.72463768 0.47887324 0.64615385]\n",
            "mean_f1_score: 0.623, std_f1_score: 0.088\n",
            "f1_score_on_crossvalidation: [0.61971831 0.69135802 0.7027027  0.47058824 0.6969697 ]\n",
            "mean_f1_score: 0.636, std_f1_score: 0.088\n",
            "f1_score_on_crossvalidation: [0.52307692 0.69135802 0.73239437 0.46376812 0.69565217]\n",
            "mean_f1_score: 0.621, std_f1_score: 0.107\n",
            "f1_score_on_crossvalidation: [0.6        0.71428571 0.69444444 0.47887324 0.69565217]\n",
            "mean_f1_score: 0.637, std_f1_score: 0.088\n",
            "f1_score_on_crossvalidation: [0.57575758 0.725      0.67605634 0.46575342 0.68656716]\n",
            "mean_f1_score: 0.626, std_f1_score: 0.094\n",
            "f1_score_on_crossvalidation: [0.59701493 0.66666667 0.66666667 0.5        0.67647059]\n",
            "mean_f1_score: 0.621, std_f1_score: 0.067\n",
            "f1_score_on_crossvalidation: [0.55882353 0.7        0.72463768 0.49315068 0.67692308]\n",
            "mean_f1_score: 0.631, std_f1_score: 0.089\n",
            "f1_score_on_crossvalidation: [0.57575758 0.675      0.72463768 0.47887324 0.64615385]\n",
            "mean_f1_score: 0.620, std_f1_score: 0.085\n",
            "f1_score_on_crossvalidation: [0.57142857 0.7        0.7027027  0.47058824 0.6969697 ]\n",
            "mean_f1_score: 0.628, std_f1_score: 0.093\n",
            "f1_score_on_crossvalidation: [0.54545455 0.69135802 0.73239437 0.46376812 0.69565217]\n",
            "mean_f1_score: 0.626, std_f1_score: 0.103\n",
            "f1_score_on_crossvalidation: [0.6        0.71428571 0.69444444 0.48571429 0.69565217]\n",
            "mean_f1_score: 0.638, std_f1_score: 0.086\n",
            "f1_score_on_crossvalidation: [0.57575758 0.725      0.67605634 0.46575342 0.68656716]\n",
            "mean_f1_score: 0.626, std_f1_score: 0.094\n",
            "f1_score_on_crossvalidation: [0.59701493 0.66666667 0.66666667 0.5        0.67647059]\n",
            "mean_f1_score: 0.621, std_f1_score: 0.067\n",
            "f1_score_on_crossvalidation: [0.55882353 0.7        0.72463768 0.49315068 0.67692308]\n",
            "mean_f1_score: 0.631, std_f1_score: 0.089\n",
            "f1_score_on_crossvalidation: [0.57575758 0.675      0.72463768 0.47887324 0.64615385]\n",
            "mean_f1_score: 0.620, std_f1_score: 0.085\n",
            "f1_score_on_crossvalidation: [0.57142857 0.7        0.7027027  0.47058824 0.6969697 ]\n",
            "mean_f1_score: 0.628, std_f1_score: 0.093\n",
            "f1_score_on_crossvalidation: [0.54545455 0.69135802 0.73239437 0.46376812 0.69565217]\n",
            "mean_f1_score: 0.626, std_f1_score: 0.103\n",
            "f1_score_on_crossvalidation: [0.6        0.71428571 0.69444444 0.48571429 0.69565217]\n",
            "mean_f1_score: 0.638, std_f1_score: 0.086\n",
            "f1_score_on_crossvalidation: [0.57575758 0.725      0.67605634 0.46575342 0.68656716]\n",
            "mean_f1_score: 0.626, std_f1_score: 0.094\n",
            "f1_score_on_crossvalidation: [0.59701493 0.66666667 0.66666667 0.5        0.67647059]\n",
            "mean_f1_score: 0.621, std_f1_score: 0.067\n",
            "f1_score_on_crossvalidation: [0.55882353 0.7        0.72463768 0.49315068 0.67692308]\n",
            "mean_f1_score: 0.631, std_f1_score: 0.089\n",
            "f1_score_on_crossvalidation: [0.57575758 0.675      0.72463768 0.47887324 0.64615385]\n",
            "mean_f1_score: 0.620, std_f1_score: 0.085\n",
            "f1_score_on_crossvalidation: [0.57142857 0.7        0.7027027  0.47058824 0.6969697 ]\n",
            "mean_f1_score: 0.628, std_f1_score: 0.093\n",
            "f1_score_on_crossvalidation: [0.54545455 0.69135802 0.73239437 0.46376812 0.69565217]\n",
            "mean_f1_score: 0.626, std_f1_score: 0.103\n",
            "f1_score_on_crossvalidation: [0.6        0.71428571 0.69444444 0.48571429 0.69565217]\n",
            "mean_f1_score: 0.638, std_f1_score: 0.086\n",
            "f1_score_on_crossvalidation: [0.57575758 0.725      0.67605634 0.46575342 0.68656716]\n",
            "mean_f1_score: 0.626, std_f1_score: 0.094\n",
            "f1_score_on_crossvalidation: [0.59701493 0.66666667 0.66666667 0.5        0.67647059]\n",
            "mean_f1_score: 0.621, std_f1_score: 0.067\n",
            "f1_score_on_crossvalidation: [0.55882353 0.7        0.72463768 0.49315068 0.67692308]\n",
            "mean_f1_score: 0.631, std_f1_score: 0.089\n",
            "f1_score_on_crossvalidation: [0.57575758 0.675      0.72463768 0.47887324 0.64615385]\n",
            "mean_f1_score: 0.620, std_f1_score: 0.085\n",
            "20 11\n"
          ]
        }
      ],
      "source": [
        "from sklearn.ensemble import RandomForestClassifier\n",
        "from sklearn.model_selection import cross_val_score\n",
        "\n",
        "max_depth = [3, 10, 15, 20, 25, 30]\n",
        "min_samples_split = [5, 8, 11, 15, 20, 25, 30]\n",
        "max_val = 0\n",
        "max_depth_best = 0\n",
        "min_samples_leaf_best = 0\n",
        "\n",
        "for i in max_depth:\n",
        "  for j in min_samples_split:\n",
        "    rf = RandomForestClassifier(n_estimators=50, max_depth = i, min_samples_split = j, random_state=1754, n_jobs=4)\n",
        "    scores = cross_val_score(rf, X_TRAIN, y_TRAIN, cv=5, scoring = 'f1', error_score='raise')\n",
        "    print(f'f1_score_on_crossvalidation: {scores}')\n",
        "    print(f'mean_f1_score: {scores.mean():.3f}, std_f1_score: {scores.std():.3f}')\n",
        "    if scores.mean() > max_val:\n",
        "      max_val = scores.mean()\n",
        "      max_depth_best = i\n",
        "      min_samples_leaf_best = j\n",
        "print(max_depth_best, min_samples_leaf_best)"
      ]
    },
    {
      "cell_type": "code",
      "source": [
        "rf = RandomForestClassifier(n_estimators=50, max_depth = 20, min_samples_split = 11, random_state=1754, n_jobs=4)\n",
        "rf.fit(X_TRAIN, y_TRAIN)\n",
        "\n",
        "print(f\"f1_score_on_test: {f1_score(rf.predict(X_test), y_test)}\")\n",
        "print(f\"accuracy_score_on_test: {accuracy_score(rf.predict(X_test), y_test)}\")\n",
        "print(f\"precision_score_on_test: {precision_score(rf.predict(X_test), y_test)}\")\n",
        "print(f\"recall_score_on_test: {recall_score(rf.predict(X_test), y_test)}\")\n",
        "print(f\"auc_roc_score_on_test: {roc_auc_score(rf.predict(X_test), y_test)}\")"
      ],
      "metadata": {
        "colab": {
          "base_uri": "https://localhost:8080/"
        },
        "id": "TYmwjDz5uUAS",
        "outputId": "f3769a1c-a27d-48dd-b4a4-487a70069257"
      },
      "execution_count": null,
      "outputs": [
        {
          "output_type": "stream",
          "name": "stdout",
          "text": [
            "f1_score_on_test: 0.6176470588235294\n",
            "accuracy_score_on_test: 0.7748917748917749\n",
            "precision_score_on_test: 0.5675675675675675\n",
            "recall_score_on_test: 0.6774193548387096\n",
            "auc_roc_score_on_test: 0.7440351212063371\n"
          ]
        }
      ]
    },
    {
      "cell_type": "markdown",
      "source": [
        "Лучше всего показал себя RandomForest, так как его показатели качества выше, чем у остальных моделей. Это было ожидаемо, так как последняя модель по сути является Bagging-ом, только добавляет ещё больше хаотичности, поэтому и показывает лучший результат."
      ],
      "metadata": {
        "id": "Gw_cKsPZurgM"
      }
    },
    {
      "cell_type": "markdown",
      "metadata": {
        "id": "s5sz3qyTw59u"
      },
      "source": [
        "**Задание 3.5 (0.5 балла)** Постройте график зависимости AUC ROC на тестовой выборке от числа деревьев (`n_estimators`) для случайного леса, обучаемого на **полной обучающей** выборке. Какие выводы можно сделать?"
      ]
    },
    {
      "cell_type": "code",
      "execution_count": null,
      "metadata": {
        "id": "3tz0phKXw59u",
        "colab": {
          "base_uri": "https://localhost:8080/",
          "height": 447
        },
        "outputId": "0f96c1b3-405e-47e2-d7f7-65b4420b9dce"
      },
      "outputs": [
        {
          "output_type": "execute_result",
          "data": {
            "text/plain": [
              "[<matplotlib.lines.Line2D at 0x7f2de9b2d480>]"
            ]
          },
          "metadata": {},
          "execution_count": 30
        },
        {
          "output_type": "display_data",
          "data": {
            "text/plain": [
              "<Figure size 640x480 with 1 Axes>"
            ],
            "image/png": "[encoded data removed]"
          },
          "metadata": {}
        }
      ],
      "source": [
        "n_estimators=[x for x in range(1, 600)]\n",
        "auc_roc = []\n",
        "for i in n_estimators:\n",
        "  rf = RandomForestClassifier(n_estimators=i, max_depth = 20, min_samples_split = 11, random_state=1754, n_jobs=4)\n",
        "  rf.fit(X_TRAIN, y_TRAIN)\n",
        "  auc_roc.append(roc_auc_score(rf.predict(X_test), y_test))\n",
        "\n",
        "plt.plot(n_estimators, auc_roc)"
      ]
    },
    {
      "cell_type": "markdown",
      "source": [
        "Когда количество деревьев становится +- 200, значение AUC-ROC выходит на горизонтальную прямую, при которой значение показателя примерно 0.765. Это говорит о том, что с ростом числа деревьев модель не переобучается. При этом видно, что в начале с ростом количества деревьев происходит резкий рост показателя AUC-ROC, который потом снижается всё так же с ростом количества деревьев."
      ],
      "metadata": {
        "id": "FLxY5LjzxuF7"
      }
    },
    {
      "cell_type": "markdown",
      "metadata": {
        "id": "Zd6veztuw59u"
      },
      "source": [
        "**Задание 3.6 (0.5 балла)** Для лучшей модели случайного леса из **Задания 3.4** посчитайте важность признаков и постройте bar plot. Какой признак оказался самым важным для определения диабета?"
      ]
    },
    {
      "cell_type": "code",
      "execution_count": null,
      "metadata": {
        "id": "0mu4Oiysw59u",
        "colab": {
          "base_uri": "https://localhost:8080/",
          "height": 622
        },
        "outputId": "9d1171b5-4b66-4a03-d233-4f99c7ee6d13"
      },
      "outputs": [
        {
          "output_type": "display_data",
          "data": {
            "text/plain": [
              "<Figure size 1700x700 with 1 Axes>"
            ],
            "image/png": "[encoded data removed]"
          },
          "metadata": {}
        }
      ],
      "source": [
        "rf = RandomForestClassifier(n_estimators=50, max_depth = 20, min_samples_split = 11, random_state=1754, n_jobs=4)\n",
        "rf.fit(X_TRAIN, y_TRAIN)\n",
        "\n",
        "plt.figure(figsize=(17, 7))\n",
        "plt.title(\"Feature importances\")\n",
        "plt.bar(data.drop(['Outcome'], axis=1).columns.values.tolist(), rf.feature_importances_);"
      ]
    },
    {
      "cell_type": "markdown",
      "source": [
        "Самым важным признаком оказался уровень глюкозы (в крови, наверное). Данный признак имеет набольший показатель важности, и наверное это логично с медицинской точки зрения."
      ],
      "metadata": {
        "id": "-qeL9nQGyzR3"
      }
    }
  ],
  "metadata": {
    "kernelspec": {
      "display_name": "Python 3 (ipykernel)",
      "language": "python",
      "name": "python3"
    },
    "language_info": {
      "codemirror_mode": {
        "name": "ipython",
        "version": 3
      },
      "file_extension": ".py",
      "mimetype": "text/x-python",
      "name": "python",
      "nbconvert_exporter": "python",
      "pygments_lexer": "ipython3",
      "version": "3.9.12"
    },
    "colab": {
      "provenance": []
    }
  },
  "nbformat": 4,
  "nbformat_minor": 0
}